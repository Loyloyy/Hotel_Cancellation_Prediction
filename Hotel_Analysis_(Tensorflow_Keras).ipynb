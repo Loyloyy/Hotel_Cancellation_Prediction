{
  "nbformat": 4,
  "nbformat_minor": 0,
  "metadata": {
    "colab": {
      "name": "Hotel Analysis (Tensorflow.Keras)",
      "provenance": [],
      "collapsed_sections": [],
      "authorship_tag": "ABX9TyOhntUKuDMhii3CvUlLbTPG",
      "include_colab_link": true
    },
    "kernelspec": {
      "name": "python3",
      "display_name": "Python 3"
    },
    "accelerator": "GPU"
  },
  "cells": [
    {
      "cell_type": "markdown",
      "metadata": {
        "id": "view-in-github",
        "colab_type": "text"
      },
      "source": [
        "<a href=\"https://colab.research.google.com/github/Loyloyy/Hotel_Cancellation_Prediction/blob/master/Hotel_Analysis_(Tensorflow_Keras).ipynb\" target=\"_parent\"><img src=\"https://colab.research.google.com/assets/colab-badge.svg\" alt=\"Open In Colab\"/></a>"
      ]
    },
    {
      "cell_type": "markdown",
      "metadata": {
        "id": "6V6qkqfprDlv",
        "colab_type": "text"
      },
      "source": [
        "This kernel will showcase my work on using Tensorflow (Keras) to create a Deep Learning model to further improve the accuracy of the engineered dataset from the hotel analysis project.\n",
        "\n",
        "I will be using both Tensorflow (Keras) and Tensorflow only in aother kernel. The reason for this is to allow myself to not only learn both but to also be able to create a model quickly using this Keras API and to learn how to create a custom in depth model only using Tensorflow.\n",
        "\n",
        "I have decided to use Google colab as it allows me to free up my computer to work on other projects while letting this model train in the background without costing any speed.\n",
        "\n"
      ]
    },
    {
      "cell_type": "code",
      "metadata": {
        "id": "3Bl7duaJCu81",
        "colab_type": "code",
        "colab": {}
      },
      "source": [
        "import io\n",
        "import tensorflow as tf\n",
        "from tensorflow import keras\n",
        "from tensorflow.keras.callbacks import EarlyStopping\n",
        "import functools\n",
        "from sklearn.model_selection import train_test_split\n",
        "from sklearn import preprocessing\n",
        "from sklearn.model_selection import train_test_split, cross_val_score, GridSearchCV\n",
        "from sklearn.metrics import accuracy_score, roc_auc_score, roc_curve, confusion_matrix, auc\n",
        "\n",
        "import numpy as np\n",
        "import pandas as pd\n",
        "import matplotlib.pyplot as plt"
      ],
      "execution_count": 0,
      "outputs": []
    },
    {
      "cell_type": "markdown",
      "metadata": {
        "id": "yVCEdfBNr4Bs",
        "colab_type": "text"
      },
      "source": [
        "Firstly, importing the raw data"
      ]
    },
    {
      "cell_type": "code",
      "metadata": {
        "id": "PL_cnV-7OGdi",
        "colab_type": "code",
        "outputId": "2b86b56b-1e2c-4842-fd31-cd96234d44e3",
        "colab": {
          "resources": {
            "http://localhost:8080/nbextensions/google.colab/files.js": {
              "data": "Ly8gQ29weXJpZ2h0IDIwMTcgR29vZ2xlIExMQwovLwovLyBMaWNlbnNlZCB1bmRlciB0aGUgQXBhY2hlIExpY2Vuc2UsIFZlcnNpb24gMi4wICh0aGUgIkxpY2Vuc2UiKTsKLy8geW91IG1heSBub3QgdXNlIHRoaXMgZmlsZSBleGNlcHQgaW4gY29tcGxpYW5jZSB3aXRoIHRoZSBMaWNlbnNlLgovLyBZb3UgbWF5IG9idGFpbiBhIGNvcHkgb2YgdGhlIExpY2Vuc2UgYXQKLy8KLy8gICAgICBodHRwOi8vd3d3LmFwYWNoZS5vcmcvbGljZW5zZXMvTElDRU5TRS0yLjAKLy8KLy8gVW5sZXNzIHJlcXVpcmVkIGJ5IGFwcGxpY2FibGUgbGF3IG9yIGFncmVlZCB0byBpbiB3cml0aW5nLCBzb2Z0d2FyZQovLyBkaXN0cmlidXRlZCB1bmRlciB0aGUgTGljZW5zZSBpcyBkaXN0cmlidXRlZCBvbiBhbiAiQVMgSVMiIEJBU0lTLAovLyBXSVRIT1VUIFdBUlJBTlRJRVMgT1IgQ09ORElUSU9OUyBPRiBBTlkgS0lORCwgZWl0aGVyIGV4cHJlc3Mgb3IgaW1wbGllZC4KLy8gU2VlIHRoZSBMaWNlbnNlIGZvciB0aGUgc3BlY2lmaWMgbGFuZ3VhZ2UgZ292ZXJuaW5nIHBlcm1pc3Npb25zIGFuZAovLyBsaW1pdGF0aW9ucyB1bmRlciB0aGUgTGljZW5zZS4KCi8qKgogKiBAZmlsZW92ZXJ2aWV3IEhlbHBlcnMgZm9yIGdvb2dsZS5jb2xhYiBQeXRob24gbW9kdWxlLgogKi8KKGZ1bmN0aW9uKHNjb3BlKSB7CmZ1bmN0aW9uIHNwYW4odGV4dCwgc3R5bGVBdHRyaWJ1dGVzID0ge30pIHsKICBjb25zdCBlbGVtZW50ID0gZG9jdW1lbnQuY3JlYXRlRWxlbWVudCgnc3BhbicpOwogIGVsZW1lbnQudGV4dENvbnRlbnQgPSB0ZXh0OwogIGZvciAoY29uc3Qga2V5IG9mIE9iamVjdC5rZXlzKHN0eWxlQXR0cmlidXRlcykpIHsKICAgIGVsZW1lbnQuc3R5bGVba2V5XSA9IHN0eWxlQXR0cmlidXRlc1trZXldOwogIH0KICByZXR1cm4gZWxlbWVudDsKfQoKLy8gTWF4IG51bWJlciBvZiBieXRlcyB3aGljaCB3aWxsIGJlIHVwbG9hZGVkIGF0IGEgdGltZS4KY29uc3QgTUFYX1BBWUxPQURfU0laRSA9IDEwMCAqIDEwMjQ7Ci8vIE1heCBhbW91bnQgb2YgdGltZSB0byBibG9jayB3YWl0aW5nIGZvciB0aGUgdXNlci4KY29uc3QgRklMRV9DSEFOR0VfVElNRU9VVF9NUyA9IDMwICogMTAwMDsKCmZ1bmN0aW9uIF91cGxvYWRGaWxlcyhpbnB1dElkLCBvdXRwdXRJZCkgewogIGNvbnN0IHN0ZXBzID0gdXBsb2FkRmlsZXNTdGVwKGlucHV0SWQsIG91dHB1dElkKTsKICBjb25zdCBvdXRwdXRFbGVtZW50ID0gZG9jdW1lbnQuZ2V0RWxlbWVudEJ5SWQob3V0cHV0SWQpOwogIC8vIENhY2hlIHN0ZXBzIG9uIHRoZSBvdXRwdXRFbGVtZW50IHRvIG1ha2UgaXQgYXZhaWxhYmxlIGZvciB0aGUgbmV4dCBjYWxsCiAgLy8gdG8gdXBsb2FkRmlsZXNDb250aW51ZSBmcm9tIFB5dGhvbi4KICBvdXRwdXRFbGVtZW50LnN0ZXBzID0gc3RlcHM7CgogIHJldHVybiBfdXBsb2FkRmlsZXNDb250aW51ZShvdXRwdXRJZCk7Cn0KCi8vIFRoaXMgaXMgcm91Z2hseSBhbiBhc3luYyBnZW5lcmF0b3IgKG5vdCBzdXBwb3J0ZWQgaW4gdGhlIGJyb3dzZXIgeWV0KSwKLy8gd2hlcmUgdGhlcmUgYXJlIG11bHRpcGxlIGFzeW5jaHJvbm91cyBzdGVwcyBhbmQgdGhlIFB5dGhvbiBzaWRlIGlzIGdvaW5nCi8vIHRvIHBvbGwgZm9yIGNvbXBsZXRpb24gb2YgZWFjaCBzdGVwLgovLyBUaGlzIHVzZXMgYSBQcm9taXNlIHRvIGJsb2NrIHRoZSBweXRob24gc2lkZSBvbiBjb21wbGV0aW9uIG9mIGVhY2ggc3RlcCwKLy8gdGhlbiBwYXNzZXMgdGhlIHJlc3VsdCBvZiB0aGUgcHJldmlvdXMgc3RlcCBhcyB0aGUgaW5wdXQgdG8gdGhlIG5leHQgc3RlcC4KZnVuY3Rpb24gX3VwbG9hZEZpbGVzQ29udGludWUob3V0cHV0SWQpIHsKICBjb25zdCBvdXRwdXRFbGVtZW50ID0gZG9jdW1lbnQuZ2V0RWxlbWVudEJ5SWQob3V0cHV0SWQpOwogIGNvbnN0IHN0ZXBzID0gb3V0cHV0RWxlbWVudC5zdGVwczsKCiAgY29uc3QgbmV4dCA9IHN0ZXBzLm5leHQob3V0cHV0RWxlbWVudC5sYXN0UHJvbWlzZVZhbHVlKTsKICByZXR1cm4gUHJvbWlzZS5yZXNvbHZlKG5leHQudmFsdWUucHJvbWlzZSkudGhlbigodmFsdWUpID0+IHsKICAgIC8vIENhY2hlIHRoZSBsYXN0IHByb21pc2UgdmFsdWUgdG8gbWFrZSBpdCBhdmFpbGFibGUgdG8gdGhlIG5leHQKICAgIC8vIHN0ZXAgb2YgdGhlIGdlbmVyYXRvci4KICAgIG91dHB1dEVsZW1lbnQubGFzdFByb21pc2VWYWx1ZSA9IHZhbHVlOwogICAgcmV0dXJuIG5leHQudmFsdWUucmVzcG9uc2U7CiAgfSk7Cn0KCi8qKgogKiBHZW5lcmF0b3IgZnVuY3Rpb24gd2hpY2ggaXMgY2FsbGVkIGJldHdlZW4gZWFjaCBhc3luYyBzdGVwIG9mIHRoZSB1cGxvYWQKICogcHJvY2Vzcy4KICogQHBhcmFtIHtzdHJpbmd9IGlucHV0SWQgRWxlbWVudCBJRCBvZiB0aGUgaW5wdXQgZmlsZSBwaWNrZXIgZWxlbWVudC4KICogQHBhcmFtIHtzdHJpbmd9IG91dHB1dElkIEVsZW1lbnQgSUQgb2YgdGhlIG91dHB1dCBkaXNwbGF5LgogKiBAcmV0dXJuIHshSXRlcmFibGU8IU9iamVjdD59IEl0ZXJhYmxlIG9mIG5leHQgc3RlcHMuCiAqLwpmdW5jdGlvbiogdXBsb2FkRmlsZXNTdGVwKGlucHV0SWQsIG91dHB1dElkKSB7CiAgY29uc3QgaW5wdXRFbGVtZW50ID0gZG9jdW1lbnQuZ2V0RWxlbWVudEJ5SWQoaW5wdXRJZCk7CiAgaW5wdXRFbGVtZW50LmRpc2FibGVkID0gZmFsc2U7CgogIGNvbnN0IG91dHB1dEVsZW1lbnQgPSBkb2N1bWVudC5nZXRFbGVtZW50QnlJZChvdXRwdXRJZCk7CiAgb3V0cHV0RWxlbWVudC5pbm5lckhUTUwgPSAnJzsKCiAgY29uc3QgcGlja2VkUHJvbWlzZSA9IG5ldyBQcm9taXNlKChyZXNvbHZlKSA9PiB7CiAgICBpbnB1dEVsZW1lbnQuYWRkRXZlbnRMaXN0ZW5lcignY2hhbmdlJywgKGUpID0+IHsKICAgICAgcmVzb2x2ZShlLnRhcmdldC5maWxlcyk7CiAgICB9KTsKICB9KTsKCiAgY29uc3QgY2FuY2VsID0gZG9jdW1lbnQuY3JlYXRlRWxlbWVudCgnYnV0dG9uJyk7CiAgaW5wdXRFbGVtZW50LnBhcmVudEVsZW1lbnQuYXBwZW5kQ2hpbGQoY2FuY2VsKTsKICBjYW5jZWwudGV4dENvbnRlbnQgPSAnQ2FuY2VsIHVwbG9hZCc7CiAgY29uc3QgY2FuY2VsUHJvbWlzZSA9IG5ldyBQcm9taXNlKChyZXNvbHZlKSA9PiB7CiAgICBjYW5jZWwub25jbGljayA9ICgpID0+IHsKICAgICAgcmVzb2x2ZShudWxsKTsKICAgIH07CiAgfSk7CgogIC8vIENhbmNlbCB1cGxvYWQgaWYgdXNlciBoYXNuJ3QgcGlja2VkIGFueXRoaW5nIGluIHRpbWVvdXQuCiAgY29uc3QgdGltZW91dFByb21pc2UgPSBuZXcgUHJvbWlzZSgocmVzb2x2ZSkgPT4gewogICAgc2V0VGltZW91dCgoKSA9PiB7CiAgICAgIHJlc29sdmUobnVsbCk7CiAgICB9LCBGSUxFX0NIQU5HRV9USU1FT1VUX01TKTsKICB9KTsKCiAgLy8gV2FpdCBmb3IgdGhlIHVzZXIgdG8gcGljayB0aGUgZmlsZXMuCiAgY29uc3QgZmlsZXMgPSB5aWVsZCB7CiAgICBwcm9taXNlOiBQcm9taXNlLnJhY2UoW3BpY2tlZFByb21pc2UsIHRpbWVvdXRQcm9taXNlLCBjYW5jZWxQcm9taXNlXSksCiAgICByZXNwb25zZTogewogICAgICBhY3Rpb246ICdzdGFydGluZycsCiAgICB9CiAgfTsKCiAgaWYgKCFmaWxlcykgewogICAgcmV0dXJuIHsKICAgICAgcmVzcG9uc2U6IHsKICAgICAgICBhY3Rpb246ICdjb21wbGV0ZScsCiAgICAgIH0KICAgIH07CiAgfQoKICBjYW5jZWwucmVtb3ZlKCk7CgogIC8vIERpc2FibGUgdGhlIGlucHV0IGVsZW1lbnQgc2luY2UgZnVydGhlciBwaWNrcyBhcmUgbm90IGFsbG93ZWQuCiAgaW5wdXRFbGVtZW50LmRpc2FibGVkID0gdHJ1ZTsKCiAgZm9yIChjb25zdCBmaWxlIG9mIGZpbGVzKSB7CiAgICBjb25zdCBsaSA9IGRvY3VtZW50LmNyZWF0ZUVsZW1lbnQoJ2xpJyk7CiAgICBsaS5hcHBlbmQoc3BhbihmaWxlLm5hbWUsIHtmb250V2VpZ2h0OiAnYm9sZCd9KSk7CiAgICBsaS5hcHBlbmQoc3BhbigKICAgICAgICBgKCR7ZmlsZS50eXBlIHx8ICduL2EnfSkgLSAke2ZpbGUuc2l6ZX0gYnl0ZXMsIGAgKwogICAgICAgIGBsYXN0IG1vZGlmaWVkOiAkewogICAgICAgICAgICBmaWxlLmxhc3RNb2RpZmllZERhdGUgPyBmaWxlLmxhc3RNb2RpZmllZERhdGUudG9Mb2NhbGVEYXRlU3RyaW5nKCkgOgogICAgICAgICAgICAgICAgICAgICAgICAgICAgICAgICAgICAnbi9hJ30gLSBgKSk7CiAgICBjb25zdCBwZXJjZW50ID0gc3BhbignMCUgZG9uZScpOwogICAgbGkuYXBwZW5kQ2hpbGQocGVyY2VudCk7CgogICAgb3V0cHV0RWxlbWVudC5hcHBlbmRDaGlsZChsaSk7CgogICAgY29uc3QgZmlsZURhdGFQcm9taXNlID0gbmV3IFByb21pc2UoKHJlc29sdmUpID0+IHsKICAgICAgY29uc3QgcmVhZGVyID0gbmV3IEZpbGVSZWFkZXIoKTsKICAgICAgcmVhZGVyLm9ubG9hZCA9IChlKSA9PiB7CiAgICAgICAgcmVzb2x2ZShlLnRhcmdldC5yZXN1bHQpOwogICAgICB9OwogICAgICByZWFkZXIucmVhZEFzQXJyYXlCdWZmZXIoZmlsZSk7CiAgICB9KTsKICAgIC8vIFdhaXQgZm9yIHRoZSBkYXRhIHRvIGJlIHJlYWR5LgogICAgbGV0IGZpbGVEYXRhID0geWllbGQgewogICAgICBwcm9taXNlOiBmaWxlRGF0YVByb21pc2UsCiAgICAgIHJlc3BvbnNlOiB7CiAgICAgICAgYWN0aW9uOiAnY29udGludWUnLAogICAgICB9CiAgICB9OwoKICAgIC8vIFVzZSBhIGNodW5rZWQgc2VuZGluZyB0byBhdm9pZCBtZXNzYWdlIHNpemUgbGltaXRzLiBTZWUgYi82MjExNTY2MC4KICAgIGxldCBwb3NpdGlvbiA9IDA7CiAgICB3aGlsZSAocG9zaXRpb24gPCBmaWxlRGF0YS5ieXRlTGVuZ3RoKSB7CiAgICAgIGNvbnN0IGxlbmd0aCA9IE1hdGgubWluKGZpbGVEYXRhLmJ5dGVMZW5ndGggLSBwb3NpdGlvbiwgTUFYX1BBWUxPQURfU0laRSk7CiAgICAgIGNvbnN0IGNodW5rID0gbmV3IFVpbnQ4QXJyYXkoZmlsZURhdGEsIHBvc2l0aW9uLCBsZW5ndGgpOwogICAgICBwb3NpdGlvbiArPSBsZW5ndGg7CgogICAgICBjb25zdCBiYXNlNjQgPSBidG9hKFN0cmluZy5mcm9tQ2hhckNvZGUuYXBwbHkobnVsbCwgY2h1bmspKTsKICAgICAgeWllbGQgewogICAgICAgIHJlc3BvbnNlOiB7CiAgICAgICAgICBhY3Rpb246ICdhcHBlbmQnLAogICAgICAgICAgZmlsZTogZmlsZS5uYW1lLAogICAgICAgICAgZGF0YTogYmFzZTY0LAogICAgICAgIH0sCiAgICAgIH07CiAgICAgIHBlcmNlbnQudGV4dENvbnRlbnQgPQogICAgICAgICAgYCR7TWF0aC5yb3VuZCgocG9zaXRpb24gLyBmaWxlRGF0YS5ieXRlTGVuZ3RoKSAqIDEwMCl9JSBkb25lYDsKICAgIH0KICB9CgogIC8vIEFsbCBkb25lLgogIHlpZWxkIHsKICAgIHJlc3BvbnNlOiB7CiAgICAgIGFjdGlvbjogJ2NvbXBsZXRlJywKICAgIH0KICB9Owp9CgpzY29wZS5nb29nbGUgPSBzY29wZS5nb29nbGUgfHwge307CnNjb3BlLmdvb2dsZS5jb2xhYiA9IHNjb3BlLmdvb2dsZS5jb2xhYiB8fCB7fTsKc2NvcGUuZ29vZ2xlLmNvbGFiLl9maWxlcyA9IHsKICBfdXBsb2FkRmlsZXMsCiAgX3VwbG9hZEZpbGVzQ29udGludWUsCn07Cn0pKHNlbGYpOwo=",
              "ok": true,
              "headers": [
                [
                  "content-type",
                  "application/javascript"
                ]
              ],
              "status": 200,
              "status_text": ""
            }
          },
          "base_uri": "https://localhost:8080/",
          "height": 74
        }
      },
      "source": [
        "from google.colab import files\n",
        "uploaded = files.upload()"
      ],
      "execution_count": 0,
      "outputs": [
        {
          "output_type": "display_data",
          "data": {
            "text/html": [
              "\n",
              "     <input type=\"file\" id=\"files-054e7eb6-6304-44bb-a477-ab1ff7d29530\" name=\"files[]\" multiple disabled />\n",
              "     <output id=\"result-054e7eb6-6304-44bb-a477-ab1ff7d29530\">\n",
              "      Upload widget is only available when the cell has been executed in the\n",
              "      current browser session. Please rerun this cell to enable.\n",
              "      </output>\n",
              "      <script src=\"/nbextensions/google.colab/files.js\"></script> "
            ],
            "text/plain": [
              "<IPython.core.display.HTML object>"
            ]
          },
          "metadata": {
            "tags": []
          }
        },
        {
          "output_type": "stream",
          "text": [
            "Saving hotel_bookings.csv to hotel_bookings.csv\n"
          ],
          "name": "stdout"
        }
      ]
    },
    {
      "cell_type": "code",
      "metadata": {
        "id": "OomUgNK1hmR0",
        "colab_type": "code",
        "colab": {}
      },
      "source": [
        "hotel_data = pd.read_csv(io.BytesIO(uploaded['hotel_bookings.csv']))"
      ],
      "execution_count": 0,
      "outputs": []
    },
    {
      "cell_type": "markdown",
      "metadata": {
        "id": "w65GfsoAr66G",
        "colab_type": "text"
      },
      "source": [
        "The next few steps involved what has already been concluded in the main hotel analysis project. I will then be preparing the data for the neural network right away."
      ]
    },
    {
      "cell_type": "code",
      "metadata": {
        "id": "pCriFhQ7iXc-",
        "colab_type": "code",
        "colab": {}
      },
      "source": [
        "final_data = hotel_data.copy()"
      ],
      "execution_count": 0,
      "outputs": []
    },
    {
      "cell_type": "code",
      "metadata": {
        "id": "PFFHqr4yip-b",
        "colab_type": "code",
        "colab": {}
      },
      "source": [
        "le = preprocessing.LabelEncoder()"
      ],
      "execution_count": 0,
      "outputs": []
    },
    {
      "cell_type": "code",
      "metadata": {
        "id": "gXiqT1wliR5P",
        "colab_type": "code",
        "colab": {}
      },
      "source": [
        "# Dropping the 'company' column\n",
        "final_data = final_data.drop(['company'], axis = 1)\n",
        "\n",
        "# Remove the null values in the country columns\n",
        "\n",
        "indices = final_data.loc[pd.isna(final_data['country']), :].index  \n",
        "final_data = final_data.drop(final_data.index[indices])  \n",
        "\n",
        "final_data['country'] = le.fit_transform(final_data['country']) \n",
        "\n",
        "final_data = pd.get_dummies(data = final_data, columns = ['hotel','meal', 'market_segment'\n",
        "                                                            , 'distribution_channel', 'reserved_room_type', 'deposit_type'\n",
        "                                                            , 'assigned_room_type', 'customer_type', 'reservation_status'])\n",
        "\n",
        "final_data = final_data.drop(columns = [ 'reservation_status_Canceled', 'reservation_status_Check-Out'\n",
        "                                          , 'reservation_status_No-Show', 'arrival_date_day_of_month'\n",
        "                                          , 'stays_in_weekend_nights', 'children', 'arrival_date_week_number'\n",
        "                                          , 'arrival_date_week_number', 'arrival_date_month', 'agent'\n",
        "                                          , 'reservation_status_date'], axis = 1)\n",
        "\n",
        "label = final_data['is_canceled']\n",
        "\n",
        "\n",
        "final_data = final_data.drop(['is_canceled'], axis =1)"
      ],
      "execution_count": 0,
      "outputs": []
    },
    {
      "cell_type": "code",
      "metadata": {
        "id": "jD6BHa6oiRxC",
        "colab_type": "code",
        "colab": {}
      },
      "source": [
        "x_train, x_test, y_train, y_test = train_test_split(final_data, label, test_size = 0.20, random_state = 42)"
      ],
      "execution_count": 0,
      "outputs": []
    },
    {
      "cell_type": "markdown",
      "metadata": {
        "id": "U51I_HkRsUPk",
        "colab_type": "text"
      },
      "source": [
        "As this kernel is mainly for testing and trying different approaches, I will be using an early stop function which will help to stop training the model when there is no longer an increase in accuracy.\n",
        "\n",
        "The aim of this will be to prevent the neural network from overfitting."
      ]
    },
    {
      "cell_type": "code",
      "metadata": {
        "id": "tmzjd6PAN_Ca",
        "colab_type": "code",
        "colab": {}
      },
      "source": [
        "earlystop_callback = EarlyStopping(monitor='accuracy', min_delta=0.0001, patience=10)"
      ],
      "execution_count": 0,
      "outputs": []
    },
    {
      "cell_type": "markdown",
      "metadata": {
        "id": "Ejys6gQdsoJt",
        "colab_type": "text"
      },
      "source": [
        "Next will be setting up the neural network.\n",
        "\n",
        "I have decided to go with 4 hidden layers as after testing with 1 to 10 layers of hidden layers, this number gave the highest average accuracy.\n",
        "\n",
        "The main activation functions that were contended included relu, softplus and swish. However as relu gave the most constant accuracy, I decided to head with relu. I will be trying combination of different activation functions in a separate Tensorflow project.\n",
        "\n",
        "The optimizer and loss functions were also tested together with the other publicly available ones provided in the Tensorflow library but the ones I used were the most consistent and resulted in the highest accuracy.\n",
        "\n",
        "One interesting takeaway from this project was that to my knowledge, the last activation function is known to either include sigmoid for a binary output (2 options) and softmax for 3 or more output. However, in this situation, the softmax function consistently outperformed the sigmoid despite the output layer only having only 2 neurals (2 outputs)."
      ]
    },
    {
      "cell_type": "code",
      "metadata": {
        "id": "jgz1CHcPiRmB",
        "colab_type": "code",
        "colab": {}
      },
      "source": [
        "Smodel = keras.Sequential([\n",
        "    keras.layers.Flatten(input_shape=(63, )),    # input layer (1)\n",
        "    keras.layers.Dense(250, activation='relu'),  # hidden layer (2)\n",
        "    keras.layers.Dense(250, activation='relu'),  # hidden layer (3)\n",
        "    keras.layers.Dense(250, activation='relu'),  # hidden layer (4)\n",
        "    keras.layers.Dense(250, activation='relu'),  # hidden layer (5)\n",
        "    keras.layers.Dense(2, activation='softmax') # output layer (6)\n",
        "])\n",
        "\n",
        "model.compile(optimizer='adam',\n",
        "              loss='SparseCategoricalCrossentropy',\n",
        "              metrics=['accuracy'])"
      ],
      "execution_count": 0,
      "outputs": []
    },
    {
      "cell_type": "markdown",
      "metadata": {
        "id": "iFe3icrMvYKU",
        "colab_type": "text"
      },
      "source": [
        "I decided to have an epoch of 1000 with early stopback to allow that function to better determine when to stop training as to prevent overfitting."
      ]
    },
    {
      "cell_type": "code",
      "metadata": {
        "id": "5oFymmgOiRhi",
        "colab_type": "code",
        "outputId": "f9d5663d-b6aa-4c29-8a92-516d379d5457",
        "colab": {
          "base_uri": "https://localhost:8080/",
          "height": 1000
        }
      },
      "source": [
        "model.fit(x_train, y_train, epochs=1000, learning rate, callbacks=[earlystop_callback]) "
      ],
      "execution_count": 0,
      "outputs": [
        {
          "output_type": "stream",
          "text": [
            "Epoch 1/1000\n",
            "2973/2973 [==============================] - 6s 2ms/step - loss: 0.7707 - accuracy: 0.7165\n",
            "Epoch 2/1000\n",
            "2973/2973 [==============================] - 6s 2ms/step - loss: 0.4589 - accuracy: 0.7799\n",
            "Epoch 3/1000\n",
            "2973/2973 [==============================] - 6s 2ms/step - loss: 0.4256 - accuracy: 0.7926\n",
            "Epoch 4/1000\n",
            "2973/2973 [==============================] - 6s 2ms/step - loss: 0.4090 - accuracy: 0.8002\n",
            "Epoch 5/1000\n",
            "2973/2973 [==============================] - 7s 2ms/step - loss: 0.3976 - accuracy: 0.8022\n",
            "Epoch 6/1000\n",
            "2973/2973 [==============================] - 6s 2ms/step - loss: 0.3864 - accuracy: 0.8071\n",
            "Epoch 7/1000\n",
            "2973/2973 [==============================] - 6s 2ms/step - loss: 0.3814 - accuracy: 0.8097\n",
            "Epoch 8/1000\n",
            "2973/2973 [==============================] - 6s 2ms/step - loss: 0.3794 - accuracy: 0.8120\n",
            "Epoch 9/1000\n",
            "2973/2973 [==============================] - 6s 2ms/step - loss: 0.3735 - accuracy: 0.8148\n",
            "Epoch 10/1000\n",
            "2973/2973 [==============================] - 6s 2ms/step - loss: 0.3716 - accuracy: 0.8157\n",
            "Epoch 11/1000\n",
            "2973/2973 [==============================] - 6s 2ms/step - loss: 0.3685 - accuracy: 0.8178\n",
            "Epoch 12/1000\n",
            "2973/2973 [==============================] - 6s 2ms/step - loss: 0.3677 - accuracy: 0.8174\n",
            "Epoch 13/1000\n",
            "2973/2973 [==============================] - 6s 2ms/step - loss: 0.3650 - accuracy: 0.8199\n",
            "Epoch 14/1000\n",
            "2973/2973 [==============================] - 6s 2ms/step - loss: 0.3654 - accuracy: 0.8200\n",
            "Epoch 15/1000\n",
            "2973/2973 [==============================] - 6s 2ms/step - loss: 0.3665 - accuracy: 0.8210\n",
            "Epoch 16/1000\n",
            "2973/2973 [==============================] - 6s 2ms/step - loss: 0.3664 - accuracy: 0.8189\n",
            "Epoch 17/1000\n",
            "2973/2973 [==============================] - 6s 2ms/step - loss: 0.3622 - accuracy: 0.8215\n",
            "Epoch 18/1000\n",
            "2973/2973 [==============================] - 6s 2ms/step - loss: 0.3597 - accuracy: 0.8244\n",
            "Epoch 19/1000\n",
            "2973/2973 [==============================] - 6s 2ms/step - loss: 0.3605 - accuracy: 0.8240\n",
            "Epoch 20/1000\n",
            "2973/2973 [==============================] - 7s 2ms/step - loss: 0.3598 - accuracy: 0.8238\n",
            "Epoch 21/1000\n",
            "2973/2973 [==============================] - 6s 2ms/step - loss: 0.3582 - accuracy: 0.8241\n",
            "Epoch 22/1000\n",
            "2973/2973 [==============================] - 6s 2ms/step - loss: 0.3573 - accuracy: 0.8258\n",
            "Epoch 23/1000\n",
            "2973/2973 [==============================] - 6s 2ms/step - loss: 0.3571 - accuracy: 0.8253\n",
            "Epoch 24/1000\n",
            "2973/2973 [==============================] - 6s 2ms/step - loss: 0.3557 - accuracy: 0.8265\n",
            "Epoch 25/1000\n",
            "2973/2973 [==============================] - 6s 2ms/step - loss: 0.3566 - accuracy: 0.8266\n",
            "Epoch 26/1000\n",
            "2973/2973 [==============================] - 6s 2ms/step - loss: 0.3564 - accuracy: 0.8262\n",
            "Epoch 27/1000\n",
            "2973/2973 [==============================] - 6s 2ms/step - loss: 0.3544 - accuracy: 0.8277\n",
            "Epoch 28/1000\n",
            "2973/2973 [==============================] - 6s 2ms/step - loss: 0.3544 - accuracy: 0.8274\n",
            "Epoch 29/1000\n",
            "2973/2973 [==============================] - 6s 2ms/step - loss: 0.3543 - accuracy: 0.8286\n",
            "Epoch 30/1000\n",
            "2973/2973 [==============================] - 6s 2ms/step - loss: 0.3553 - accuracy: 0.8274\n",
            "Epoch 31/1000\n",
            "2973/2973 [==============================] - 6s 2ms/step - loss: 0.3551 - accuracy: 0.8271\n",
            "Epoch 32/1000\n",
            "2973/2973 [==============================] - 6s 2ms/step - loss: 0.3626 - accuracy: 0.8267\n",
            "Epoch 33/1000\n",
            "2973/2973 [==============================] - 6s 2ms/step - loss: 0.3533 - accuracy: 0.8282\n",
            "Epoch 34/1000\n",
            "2973/2973 [==============================] - 6s 2ms/step - loss: 0.3543 - accuracy: 0.8280\n",
            "Epoch 35/1000\n",
            "2973/2973 [==============================] - 6s 2ms/step - loss: 0.3534 - accuracy: 0.8283\n",
            "Epoch 36/1000\n",
            "2973/2973 [==============================] - 6s 2ms/step - loss: 0.3513 - accuracy: 0.8296\n",
            "Epoch 37/1000\n",
            "2973/2973 [==============================] - 6s 2ms/step - loss: 0.3532 - accuracy: 0.8285\n",
            "Epoch 38/1000\n",
            "2973/2973 [==============================] - 6s 2ms/step - loss: 0.3506 - accuracy: 0.8303\n",
            "Epoch 39/1000\n",
            "2973/2973 [==============================] - 6s 2ms/step - loss: 0.3508 - accuracy: 0.8297\n",
            "Epoch 40/1000\n",
            "2973/2973 [==============================] - 6s 2ms/step - loss: 0.3489 - accuracy: 0.8312\n",
            "Epoch 41/1000\n",
            "2973/2973 [==============================] - 6s 2ms/step - loss: 0.3521 - accuracy: 0.8290\n",
            "Epoch 42/1000\n",
            "2973/2973 [==============================] - 6s 2ms/step - loss: 0.3510 - accuracy: 0.8305\n",
            "Epoch 43/1000\n",
            "2973/2973 [==============================] - 6s 2ms/step - loss: 0.3513 - accuracy: 0.8300\n",
            "Epoch 44/1000\n",
            "2973/2973 [==============================] - 6s 2ms/step - loss: 0.3498 - accuracy: 0.8312\n",
            "Epoch 45/1000\n",
            "2973/2973 [==============================] - 6s 2ms/step - loss: 0.3513 - accuracy: 0.8308\n",
            "Epoch 46/1000\n",
            "2973/2973 [==============================] - 6s 2ms/step - loss: 0.3502 - accuracy: 0.8315\n",
            "Epoch 47/1000\n",
            "2973/2973 [==============================] - 6s 2ms/step - loss: 0.3483 - accuracy: 0.8309\n",
            "Epoch 48/1000\n",
            "2973/2973 [==============================] - 6s 2ms/step - loss: 0.3498 - accuracy: 0.8306\n",
            "Epoch 49/1000\n",
            "2973/2973 [==============================] - 6s 2ms/step - loss: 0.3517 - accuracy: 0.8300\n",
            "Epoch 50/1000\n",
            "2973/2973 [==============================] - 6s 2ms/step - loss: 0.3483 - accuracy: 0.8321\n",
            "Epoch 51/1000\n",
            "2973/2973 [==============================] - 6s 2ms/step - loss: 0.3499 - accuracy: 0.8315\n",
            "Epoch 52/1000\n",
            "2973/2973 [==============================] - 6s 2ms/step - loss: 0.3488 - accuracy: 0.8326\n",
            "Epoch 53/1000\n",
            "2973/2973 [==============================] - 6s 2ms/step - loss: 0.3488 - accuracy: 0.8324\n",
            "Epoch 54/1000\n",
            "2973/2973 [==============================] - 6s 2ms/step - loss: 0.3482 - accuracy: 0.8320\n",
            "Epoch 55/1000\n",
            "2973/2973 [==============================] - 6s 2ms/step - loss: 0.3475 - accuracy: 0.8320\n",
            "Epoch 56/1000\n",
            "2973/2973 [==============================] - 6s 2ms/step - loss: 0.3501 - accuracy: 0.8321\n",
            "Epoch 57/1000\n",
            "2973/2973 [==============================] - 6s 2ms/step - loss: 0.3477 - accuracy: 0.8327\n",
            "Epoch 58/1000\n",
            "2973/2973 [==============================] - 6s 2ms/step - loss: 0.3483 - accuracy: 0.8320\n",
            "Epoch 59/1000\n",
            "2973/2973 [==============================] - 6s 2ms/step - loss: 0.3830 - accuracy: 0.8302\n",
            "Epoch 60/1000\n",
            "2973/2973 [==============================] - 6s 2ms/step - loss: 0.3544 - accuracy: 0.8306\n",
            "Epoch 61/1000\n",
            "2973/2973 [==============================] - 6s 2ms/step - loss: 0.3484 - accuracy: 0.8327\n",
            "Epoch 62/1000\n",
            "2973/2973 [==============================] - 6s 2ms/step - loss: 0.3473 - accuracy: 0.8320\n",
            "Epoch 63/1000\n",
            "2973/2973 [==============================] - 6s 2ms/step - loss: 0.3479 - accuracy: 0.8327\n",
            "Epoch 64/1000\n",
            "2973/2973 [==============================] - 6s 2ms/step - loss: 0.3472 - accuracy: 0.8334\n",
            "Epoch 65/1000\n",
            "2973/2973 [==============================] - 6s 2ms/step - loss: 0.3457 - accuracy: 0.8341\n",
            "Epoch 66/1000\n",
            "2973/2973 [==============================] - 6s 2ms/step - loss: 0.3486 - accuracy: 0.8329\n",
            "Epoch 67/1000\n",
            "2973/2973 [==============================] - 6s 2ms/step - loss: 0.3459 - accuracy: 0.8346\n",
            "Epoch 68/1000\n",
            "2973/2973 [==============================] - 6s 2ms/step - loss: 0.3448 - accuracy: 0.8340\n",
            "Epoch 69/1000\n",
            "2973/2973 [==============================] - 6s 2ms/step - loss: 0.3475 - accuracy: 0.8330\n",
            "Epoch 70/1000\n",
            "2973/2973 [==============================] - 6s 2ms/step - loss: 0.3463 - accuracy: 0.8340\n",
            "Epoch 71/1000\n",
            "2973/2973 [==============================] - 7s 2ms/step - loss: 0.3454 - accuracy: 0.8351\n",
            "Epoch 72/1000\n",
            "2973/2973 [==============================] - 6s 2ms/step - loss: 0.3497 - accuracy: 0.8340\n",
            "Epoch 73/1000\n",
            "2973/2973 [==============================] - 6s 2ms/step - loss: 0.3445 - accuracy: 0.8343\n",
            "Epoch 74/1000\n",
            "2973/2973 [==============================] - 6s 2ms/step - loss: 0.3444 - accuracy: 0.8349\n",
            "Epoch 75/1000\n",
            "2973/2973 [==============================] - 6s 2ms/step - loss: 0.3440 - accuracy: 0.8340\n",
            "Epoch 76/1000\n",
            "2973/2973 [==============================] - 6s 2ms/step - loss: 0.3479 - accuracy: 0.8342\n",
            "Epoch 77/1000\n",
            "2973/2973 [==============================] - 6s 2ms/step - loss: 0.3431 - accuracy: 0.8352\n",
            "Epoch 78/1000\n",
            "2973/2973 [==============================] - 6s 2ms/step - loss: 0.3428 - accuracy: 0.8357\n",
            "Epoch 79/1000\n",
            "2973/2973 [==============================] - 6s 2ms/step - loss: 0.3427 - accuracy: 0.8352\n",
            "Epoch 80/1000\n",
            "2973/2973 [==============================] - 6s 2ms/step - loss: 0.3434 - accuracy: 0.8352\n",
            "Epoch 81/1000\n",
            "2973/2973 [==============================] - 6s 2ms/step - loss: 0.3426 - accuracy: 0.8367\n",
            "Epoch 82/1000\n",
            "2973/2973 [==============================] - 6s 2ms/step - loss: 0.3430 - accuracy: 0.8359\n",
            "Epoch 83/1000\n",
            "2973/2973 [==============================] - 6s 2ms/step - loss: 0.3427 - accuracy: 0.8363\n",
            "Epoch 84/1000\n",
            "2973/2973 [==============================] - 6s 2ms/step - loss: 0.3433 - accuracy: 0.8359\n",
            "Epoch 85/1000\n",
            "2973/2973 [==============================] - 6s 2ms/step - loss: 0.3426 - accuracy: 0.8357\n",
            "Epoch 86/1000\n",
            "2973/2973 [==============================] - 6s 2ms/step - loss: 0.3413 - accuracy: 0.8374\n",
            "Epoch 87/1000\n",
            "2973/2973 [==============================] - 6s 2ms/step - loss: 0.3484 - accuracy: 0.8350\n",
            "Epoch 88/1000\n",
            "2973/2973 [==============================] - 6s 2ms/step - loss: 0.3417 - accuracy: 0.8365\n",
            "Epoch 89/1000\n",
            "2973/2973 [==============================] - 6s 2ms/step - loss: 0.3417 - accuracy: 0.8373\n",
            "Epoch 90/1000\n",
            "2973/2973 [==============================] - 6s 2ms/step - loss: 0.3430 - accuracy: 0.8357\n",
            "Epoch 91/1000\n",
            "2973/2973 [==============================] - 6s 2ms/step - loss: 0.3423 - accuracy: 0.8358\n",
            "Epoch 92/1000\n",
            "2973/2973 [==============================] - 6s 2ms/step - loss: 0.3400 - accuracy: 0.8381\n",
            "Epoch 93/1000\n",
            "2973/2973 [==============================] - 6s 2ms/step - loss: 0.3414 - accuracy: 0.8376\n",
            "Epoch 94/1000\n",
            "2973/2973 [==============================] - 6s 2ms/step - loss: 0.3417 - accuracy: 0.8376\n",
            "Epoch 95/1000\n",
            "2973/2973 [==============================] - 6s 2ms/step - loss: 0.3397 - accuracy: 0.8378\n",
            "Epoch 96/1000\n",
            "2973/2973 [==============================] - 6s 2ms/step - loss: 0.3401 - accuracy: 0.8378\n",
            "Epoch 97/1000\n",
            "2973/2973 [==============================] - 6s 2ms/step - loss: 0.3421 - accuracy: 0.8370\n",
            "Epoch 98/1000\n",
            "2973/2973 [==============================] - 6s 2ms/step - loss: 0.3402 - accuracy: 0.8377\n",
            "Epoch 99/1000\n",
            "2973/2973 [==============================] - 6s 2ms/step - loss: 0.3396 - accuracy: 0.8378\n",
            "Epoch 100/1000\n",
            "2973/2973 [==============================] - 6s 2ms/step - loss: 0.3399 - accuracy: 0.8386\n",
            "Epoch 101/1000\n",
            "2973/2973 [==============================] - 6s 2ms/step - loss: 0.3405 - accuracy: 0.8375\n",
            "Epoch 102/1000\n",
            "2973/2973 [==============================] - 6s 2ms/step - loss: 0.3398 - accuracy: 0.8380\n",
            "Epoch 103/1000\n",
            "2973/2973 [==============================] - 6s 2ms/step - loss: 0.3418 - accuracy: 0.8372\n",
            "Epoch 104/1000\n",
            "2973/2973 [==============================] - 6s 2ms/step - loss: 0.3398 - accuracy: 0.8390\n",
            "Epoch 105/1000\n",
            "2973/2973 [==============================] - 6s 2ms/step - loss: 0.3387 - accuracy: 0.8395\n",
            "Epoch 106/1000\n",
            "2973/2973 [==============================] - 6s 2ms/step - loss: 0.3428 - accuracy: 0.8368\n",
            "Epoch 107/1000\n",
            "2973/2973 [==============================] - 6s 2ms/step - loss: 0.3432 - accuracy: 0.8372\n",
            "Epoch 108/1000\n",
            "2973/2973 [==============================] - 6s 2ms/step - loss: 0.3400 - accuracy: 0.8368\n",
            "Epoch 109/1000\n",
            "2973/2973 [==============================] - 6s 2ms/step - loss: 0.3400 - accuracy: 0.8379\n",
            "Epoch 110/1000\n",
            "2973/2973 [==============================] - 6s 2ms/step - loss: 0.3421 - accuracy: 0.8383\n",
            "Epoch 111/1000\n",
            "2973/2973 [==============================] - 6s 2ms/step - loss: 0.3382 - accuracy: 0.8396\n",
            "Epoch 112/1000\n",
            "2973/2973 [==============================] - 6s 2ms/step - loss: 0.3401 - accuracy: 0.8380\n",
            "Epoch 113/1000\n",
            "2973/2973 [==============================] - 6s 2ms/step - loss: 0.3382 - accuracy: 0.8390\n",
            "Epoch 114/1000\n",
            "2973/2973 [==============================] - 6s 2ms/step - loss: 0.3414 - accuracy: 0.8366\n",
            "Epoch 115/1000\n",
            "2973/2973 [==============================] - 6s 2ms/step - loss: 0.3385 - accuracy: 0.8392\n"
          ],
          "name": "stdout"
        },
        {
          "output_type": "execute_result",
          "data": {
            "text/plain": [
              "<tensorflow.python.keras.callbacks.History at 0x7fecd21a5ba8>"
            ]
          },
          "metadata": {
            "tags": []
          },
          "execution_count": 11
        }
      ]
    },
    {
      "cell_type": "markdown",
      "metadata": {
        "id": "DbCMwQwVvUlO",
        "colab_type": "text"
      },
      "source": [
        "From the training, we can already see that the neural network is performing much better compared to Sklearn's version in the original kernel"
      ]
    },
    {
      "cell_type": "code",
      "metadata": {
        "id": "qElkPrCoiRcN",
        "colab_type": "code",
        "outputId": "f9ca5de8-2c2c-4c4f-f753-95169bd95836",
        "colab": {
          "base_uri": "https://localhost:8080/",
          "height": 50
        }
      },
      "source": [
        "test_loss, test_acc = model.evaluate(x_test, y_test, verbose=1) \n",
        "\n",
        "print('Test accuracy:', test_acc)"
      ],
      "execution_count": 0,
      "outputs": [
        {
          "output_type": "stream",
          "text": [
            "744/744 [==============================] - 1s 2ms/step - loss: 0.3446 - accuracy: 0.8377\n",
            "Test accuracy: 0.8377276062965393\n"
          ],
          "name": "stdout"
        }
      ]
    },
    {
      "cell_type": "markdown",
      "metadata": {
        "id": "J4_fEitfLD-2",
        "colab_type": "text"
      },
      "source": [
        "## Conclusion"
      ]
    },
    {
      "cell_type": "markdown",
      "metadata": {
        "id": "2Ossg2-BLEOd",
        "colab_type": "text"
      },
      "source": [
        "Even with such a basic neural network, the performance has increase frastically as compared to the supervised models in the orginal kernel.\n",
        "\n",
        "As such, I will be diving into the raw Tensorflow implementation in a separate kernel to hopefully increase the accuracy.\n",
        "\n",
        "Thank you for your time and if you have any feedbacks, feel free to reach out to me too!"
      ]
    }
  ]
}
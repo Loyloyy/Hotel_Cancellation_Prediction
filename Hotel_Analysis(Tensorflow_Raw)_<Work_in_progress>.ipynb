{
  "nbformat": 4,
  "nbformat_minor": 0,
  "metadata": {
    "colab": {
      "name": "Hotel_Analysis(Tensorflow Raw) <Work in progress>",
      "provenance": [],
      "collapsed_sections": [],
      "authorship_tag": "ABX9TyNTFNCKWvQfpFgY5ToX8NFC"
    },
    "kernelspec": {
      "name": "python3",
      "display_name": "Python 3"
    }
  },
  "cells": [
    {
      "cell_type": "code",
      "metadata": {
        "id": "re2Hrl5KTeLu",
        "colab_type": "code",
        "colab": {}
      },
      "source": [
        "import io\n",
        "import tensorflow as tf\n",
        "%tensorflow_version 2.x\n",
        "import functools\n",
        "from sklearn.model_selection import train_test_split\n",
        "from sklearn import preprocessing\n",
        "from sklearn.model_selection import train_test_split, cross_val_score, GridSearchCV\n",
        "from sklearn.metrics import accuracy_score, roc_auc_score, roc_curve, confusion_matrix, auc\n",
        "\n",
        "import numpy as np\n",
        "import pandas as pd\n",
        "import matplotlib.pyplot as plt"
      ],
      "execution_count": 0,
      "outputs": []
    },
    {
      "cell_type": "code",
      "metadata": {
        "id": "muCIHizdTk9I",
        "colab_type": "code",
        "outputId": "d0c3f48f-6b4f-4302-fc06-29fa9a8731b1",
        "colab": {
          "resources": {
            "http://localhost:8080/nbextensions/google.colab/files.js": {
              "data": "Ly8gQ29weXJpZ2h0IDIwMTcgR29vZ2xlIExMQwovLwovLyBMaWNlbnNlZCB1bmRlciB0aGUgQXBhY2hlIExpY2Vuc2UsIFZlcnNpb24gMi4wICh0aGUgIkxpY2Vuc2UiKTsKLy8geW91IG1heSBub3QgdXNlIHRoaXMgZmlsZSBleGNlcHQgaW4gY29tcGxpYW5jZSB3aXRoIHRoZSBMaWNlbnNlLgovLyBZb3UgbWF5IG9idGFpbiBhIGNvcHkgb2YgdGhlIExpY2Vuc2UgYXQKLy8KLy8gICAgICBodHRwOi8vd3d3LmFwYWNoZS5vcmcvbGljZW5zZXMvTElDRU5TRS0yLjAKLy8KLy8gVW5sZXNzIHJlcXVpcmVkIGJ5IGFwcGxpY2FibGUgbGF3IG9yIGFncmVlZCB0byBpbiB3cml0aW5nLCBzb2Z0d2FyZQovLyBkaXN0cmlidXRlZCB1bmRlciB0aGUgTGljZW5zZSBpcyBkaXN0cmlidXRlZCBvbiBhbiAiQVMgSVMiIEJBU0lTLAovLyBXSVRIT1VUIFdBUlJBTlRJRVMgT1IgQ09ORElUSU9OUyBPRiBBTlkgS0lORCwgZWl0aGVyIGV4cHJlc3Mgb3IgaW1wbGllZC4KLy8gU2VlIHRoZSBMaWNlbnNlIGZvciB0aGUgc3BlY2lmaWMgbGFuZ3VhZ2UgZ292ZXJuaW5nIHBlcm1pc3Npb25zIGFuZAovLyBsaW1pdGF0aW9ucyB1bmRlciB0aGUgTGljZW5zZS4KCi8qKgogKiBAZmlsZW92ZXJ2aWV3IEhlbHBlcnMgZm9yIGdvb2dsZS5jb2xhYiBQeXRob24gbW9kdWxlLgogKi8KKGZ1bmN0aW9uKHNjb3BlKSB7CmZ1bmN0aW9uIHNwYW4odGV4dCwgc3R5bGVBdHRyaWJ1dGVzID0ge30pIHsKICBjb25zdCBlbGVtZW50ID0gZG9jdW1lbnQuY3JlYXRlRWxlbWVudCgnc3BhbicpOwogIGVsZW1lbnQudGV4dENvbnRlbnQgPSB0ZXh0OwogIGZvciAoY29uc3Qga2V5IG9mIE9iamVjdC5rZXlzKHN0eWxlQXR0cmlidXRlcykpIHsKICAgIGVsZW1lbnQuc3R5bGVba2V5XSA9IHN0eWxlQXR0cmlidXRlc1trZXldOwogIH0KICByZXR1cm4gZWxlbWVudDsKfQoKLy8gTWF4IG51bWJlciBvZiBieXRlcyB3aGljaCB3aWxsIGJlIHVwbG9hZGVkIGF0IGEgdGltZS4KY29uc3QgTUFYX1BBWUxPQURfU0laRSA9IDEwMCAqIDEwMjQ7Ci8vIE1heCBhbW91bnQgb2YgdGltZSB0byBibG9jayB3YWl0aW5nIGZvciB0aGUgdXNlci4KY29uc3QgRklMRV9DSEFOR0VfVElNRU9VVF9NUyA9IDMwICogMTAwMDsKCmZ1bmN0aW9uIF91cGxvYWRGaWxlcyhpbnB1dElkLCBvdXRwdXRJZCkgewogIGNvbnN0IHN0ZXBzID0gdXBsb2FkRmlsZXNTdGVwKGlucHV0SWQsIG91dHB1dElkKTsKICBjb25zdCBvdXRwdXRFbGVtZW50ID0gZG9jdW1lbnQuZ2V0RWxlbWVudEJ5SWQob3V0cHV0SWQpOwogIC8vIENhY2hlIHN0ZXBzIG9uIHRoZSBvdXRwdXRFbGVtZW50IHRvIG1ha2UgaXQgYXZhaWxhYmxlIGZvciB0aGUgbmV4dCBjYWxsCiAgLy8gdG8gdXBsb2FkRmlsZXNDb250aW51ZSBmcm9tIFB5dGhvbi4KICBvdXRwdXRFbGVtZW50LnN0ZXBzID0gc3RlcHM7CgogIHJldHVybiBfdXBsb2FkRmlsZXNDb250aW51ZShvdXRwdXRJZCk7Cn0KCi8vIFRoaXMgaXMgcm91Z2hseSBhbiBhc3luYyBnZW5lcmF0b3IgKG5vdCBzdXBwb3J0ZWQgaW4gdGhlIGJyb3dzZXIgeWV0KSwKLy8gd2hlcmUgdGhlcmUgYXJlIG11bHRpcGxlIGFzeW5jaHJvbm91cyBzdGVwcyBhbmQgdGhlIFB5dGhvbiBzaWRlIGlzIGdvaW5nCi8vIHRvIHBvbGwgZm9yIGNvbXBsZXRpb24gb2YgZWFjaCBzdGVwLgovLyBUaGlzIHVzZXMgYSBQcm9taXNlIHRvIGJsb2NrIHRoZSBweXRob24gc2lkZSBvbiBjb21wbGV0aW9uIG9mIGVhY2ggc3RlcCwKLy8gdGhlbiBwYXNzZXMgdGhlIHJlc3VsdCBvZiB0aGUgcHJldmlvdXMgc3RlcCBhcyB0aGUgaW5wdXQgdG8gdGhlIG5leHQgc3RlcC4KZnVuY3Rpb24gX3VwbG9hZEZpbGVzQ29udGludWUob3V0cHV0SWQpIHsKICBjb25zdCBvdXRwdXRFbGVtZW50ID0gZG9jdW1lbnQuZ2V0RWxlbWVudEJ5SWQob3V0cHV0SWQpOwogIGNvbnN0IHN0ZXBzID0gb3V0cHV0RWxlbWVudC5zdGVwczsKCiAgY29uc3QgbmV4dCA9IHN0ZXBzLm5leHQob3V0cHV0RWxlbWVudC5sYXN0UHJvbWlzZVZhbHVlKTsKICByZXR1cm4gUHJvbWlzZS5yZXNvbHZlKG5leHQudmFsdWUucHJvbWlzZSkudGhlbigodmFsdWUpID0+IHsKICAgIC8vIENhY2hlIHRoZSBsYXN0IHByb21pc2UgdmFsdWUgdG8gbWFrZSBpdCBhdmFpbGFibGUgdG8gdGhlIG5leHQKICAgIC8vIHN0ZXAgb2YgdGhlIGdlbmVyYXRvci4KICAgIG91dHB1dEVsZW1lbnQubGFzdFByb21pc2VWYWx1ZSA9IHZhbHVlOwogICAgcmV0dXJuIG5leHQudmFsdWUucmVzcG9uc2U7CiAgfSk7Cn0KCi8qKgogKiBHZW5lcmF0b3IgZnVuY3Rpb24gd2hpY2ggaXMgY2FsbGVkIGJldHdlZW4gZWFjaCBhc3luYyBzdGVwIG9mIHRoZSB1cGxvYWQKICogcHJvY2Vzcy4KICogQHBhcmFtIHtzdHJpbmd9IGlucHV0SWQgRWxlbWVudCBJRCBvZiB0aGUgaW5wdXQgZmlsZSBwaWNrZXIgZWxlbWVudC4KICogQHBhcmFtIHtzdHJpbmd9IG91dHB1dElkIEVsZW1lbnQgSUQgb2YgdGhlIG91dHB1dCBkaXNwbGF5LgogKiBAcmV0dXJuIHshSXRlcmFibGU8IU9iamVjdD59IEl0ZXJhYmxlIG9mIG5leHQgc3RlcHMuCiAqLwpmdW5jdGlvbiogdXBsb2FkRmlsZXNTdGVwKGlucHV0SWQsIG91dHB1dElkKSB7CiAgY29uc3QgaW5wdXRFbGVtZW50ID0gZG9jdW1lbnQuZ2V0RWxlbWVudEJ5SWQoaW5wdXRJZCk7CiAgaW5wdXRFbGVtZW50LmRpc2FibGVkID0gZmFsc2U7CgogIGNvbnN0IG91dHB1dEVsZW1lbnQgPSBkb2N1bWVudC5nZXRFbGVtZW50QnlJZChvdXRwdXRJZCk7CiAgb3V0cHV0RWxlbWVudC5pbm5lckhUTUwgPSAnJzsKCiAgY29uc3QgcGlja2VkUHJvbWlzZSA9IG5ldyBQcm9taXNlKChyZXNvbHZlKSA9PiB7CiAgICBpbnB1dEVsZW1lbnQuYWRkRXZlbnRMaXN0ZW5lcignY2hhbmdlJywgKGUpID0+IHsKICAgICAgcmVzb2x2ZShlLnRhcmdldC5maWxlcyk7CiAgICB9KTsKICB9KTsKCiAgY29uc3QgY2FuY2VsID0gZG9jdW1lbnQuY3JlYXRlRWxlbWVudCgnYnV0dG9uJyk7CiAgaW5wdXRFbGVtZW50LnBhcmVudEVsZW1lbnQuYXBwZW5kQ2hpbGQoY2FuY2VsKTsKICBjYW5jZWwudGV4dENvbnRlbnQgPSAnQ2FuY2VsIHVwbG9hZCc7CiAgY29uc3QgY2FuY2VsUHJvbWlzZSA9IG5ldyBQcm9taXNlKChyZXNvbHZlKSA9PiB7CiAgICBjYW5jZWwub25jbGljayA9ICgpID0+IHsKICAgICAgcmVzb2x2ZShudWxsKTsKICAgIH07CiAgfSk7CgogIC8vIENhbmNlbCB1cGxvYWQgaWYgdXNlciBoYXNuJ3QgcGlja2VkIGFueXRoaW5nIGluIHRpbWVvdXQuCiAgY29uc3QgdGltZW91dFByb21pc2UgPSBuZXcgUHJvbWlzZSgocmVzb2x2ZSkgPT4gewogICAgc2V0VGltZW91dCgoKSA9PiB7CiAgICAgIHJlc29sdmUobnVsbCk7CiAgICB9LCBGSUxFX0NIQU5HRV9USU1FT1VUX01TKTsKICB9KTsKCiAgLy8gV2FpdCBmb3IgdGhlIHVzZXIgdG8gcGljayB0aGUgZmlsZXMuCiAgY29uc3QgZmlsZXMgPSB5aWVsZCB7CiAgICBwcm9taXNlOiBQcm9taXNlLnJhY2UoW3BpY2tlZFByb21pc2UsIHRpbWVvdXRQcm9taXNlLCBjYW5jZWxQcm9taXNlXSksCiAgICByZXNwb25zZTogewogICAgICBhY3Rpb246ICdzdGFydGluZycsCiAgICB9CiAgfTsKCiAgaWYgKCFmaWxlcykgewogICAgcmV0dXJuIHsKICAgICAgcmVzcG9uc2U6IHsKICAgICAgICBhY3Rpb246ICdjb21wbGV0ZScsCiAgICAgIH0KICAgIH07CiAgfQoKICBjYW5jZWwucmVtb3ZlKCk7CgogIC8vIERpc2FibGUgdGhlIGlucHV0IGVsZW1lbnQgc2luY2UgZnVydGhlciBwaWNrcyBhcmUgbm90IGFsbG93ZWQuCiAgaW5wdXRFbGVtZW50LmRpc2FibGVkID0gdHJ1ZTsKCiAgZm9yIChjb25zdCBmaWxlIG9mIGZpbGVzKSB7CiAgICBjb25zdCBsaSA9IGRvY3VtZW50LmNyZWF0ZUVsZW1lbnQoJ2xpJyk7CiAgICBsaS5hcHBlbmQoc3BhbihmaWxlLm5hbWUsIHtmb250V2VpZ2h0OiAnYm9sZCd9KSk7CiAgICBsaS5hcHBlbmQoc3BhbigKICAgICAgICBgKCR7ZmlsZS50eXBlIHx8ICduL2EnfSkgLSAke2ZpbGUuc2l6ZX0gYnl0ZXMsIGAgKwogICAgICAgIGBsYXN0IG1vZGlmaWVkOiAkewogICAgICAgICAgICBmaWxlLmxhc3RNb2RpZmllZERhdGUgPyBmaWxlLmxhc3RNb2RpZmllZERhdGUudG9Mb2NhbGVEYXRlU3RyaW5nKCkgOgogICAgICAgICAgICAgICAgICAgICAgICAgICAgICAgICAgICAnbi9hJ30gLSBgKSk7CiAgICBjb25zdCBwZXJjZW50ID0gc3BhbignMCUgZG9uZScpOwogICAgbGkuYXBwZW5kQ2hpbGQocGVyY2VudCk7CgogICAgb3V0cHV0RWxlbWVudC5hcHBlbmRDaGlsZChsaSk7CgogICAgY29uc3QgZmlsZURhdGFQcm9taXNlID0gbmV3IFByb21pc2UoKHJlc29sdmUpID0+IHsKICAgICAgY29uc3QgcmVhZGVyID0gbmV3IEZpbGVSZWFkZXIoKTsKICAgICAgcmVhZGVyLm9ubG9hZCA9IChlKSA9PiB7CiAgICAgICAgcmVzb2x2ZShlLnRhcmdldC5yZXN1bHQpOwogICAgICB9OwogICAgICByZWFkZXIucmVhZEFzQXJyYXlCdWZmZXIoZmlsZSk7CiAgICB9KTsKICAgIC8vIFdhaXQgZm9yIHRoZSBkYXRhIHRvIGJlIHJlYWR5LgogICAgbGV0IGZpbGVEYXRhID0geWllbGQgewogICAgICBwcm9taXNlOiBmaWxlRGF0YVByb21pc2UsCiAgICAgIHJlc3BvbnNlOiB7CiAgICAgICAgYWN0aW9uOiAnY29udGludWUnLAogICAgICB9CiAgICB9OwoKICAgIC8vIFVzZSBhIGNodW5rZWQgc2VuZGluZyB0byBhdm9pZCBtZXNzYWdlIHNpemUgbGltaXRzLiBTZWUgYi82MjExNTY2MC4KICAgIGxldCBwb3NpdGlvbiA9IDA7CiAgICB3aGlsZSAocG9zaXRpb24gPCBmaWxlRGF0YS5ieXRlTGVuZ3RoKSB7CiAgICAgIGNvbnN0IGxlbmd0aCA9IE1hdGgubWluKGZpbGVEYXRhLmJ5dGVMZW5ndGggLSBwb3NpdGlvbiwgTUFYX1BBWUxPQURfU0laRSk7CiAgICAgIGNvbnN0IGNodW5rID0gbmV3IFVpbnQ4QXJyYXkoZmlsZURhdGEsIHBvc2l0aW9uLCBsZW5ndGgpOwogICAgICBwb3NpdGlvbiArPSBsZW5ndGg7CgogICAgICBjb25zdCBiYXNlNjQgPSBidG9hKFN0cmluZy5mcm9tQ2hhckNvZGUuYXBwbHkobnVsbCwgY2h1bmspKTsKICAgICAgeWllbGQgewogICAgICAgIHJlc3BvbnNlOiB7CiAgICAgICAgICBhY3Rpb246ICdhcHBlbmQnLAogICAgICAgICAgZmlsZTogZmlsZS5uYW1lLAogICAgICAgICAgZGF0YTogYmFzZTY0LAogICAgICAgIH0sCiAgICAgIH07CiAgICAgIHBlcmNlbnQudGV4dENvbnRlbnQgPQogICAgICAgICAgYCR7TWF0aC5yb3VuZCgocG9zaXRpb24gLyBmaWxlRGF0YS5ieXRlTGVuZ3RoKSAqIDEwMCl9JSBkb25lYDsKICAgIH0KICB9CgogIC8vIEFsbCBkb25lLgogIHlpZWxkIHsKICAgIHJlc3BvbnNlOiB7CiAgICAgIGFjdGlvbjogJ2NvbXBsZXRlJywKICAgIH0KICB9Owp9CgpzY29wZS5nb29nbGUgPSBzY29wZS5nb29nbGUgfHwge307CnNjb3BlLmdvb2dsZS5jb2xhYiA9IHNjb3BlLmdvb2dsZS5jb2xhYiB8fCB7fTsKc2NvcGUuZ29vZ2xlLmNvbGFiLl9maWxlcyA9IHsKICBfdXBsb2FkRmlsZXMsCiAgX3VwbG9hZEZpbGVzQ29udGludWUsCn07Cn0pKHNlbGYpOwo=",
              "ok": true,
              "headers": [
                [
                  "content-type",
                  "application/javascript"
                ]
              ],
              "status": 200,
              "status_text": ""
            }
          },
          "base_uri": "https://localhost:8080/",
          "height": 74
        }
      },
      "source": [
        "from google.colab import files\n",
        "uploaded = files.upload()"
      ],
      "execution_count": 2,
      "outputs": [
        {
          "output_type": "display_data",
          "data": {
            "text/html": [
              "\n",
              "     <input type=\"file\" id=\"files-d010200e-7dfb-4316-870f-454b9d0f0f72\" name=\"files[]\" multiple disabled />\n",
              "     <output id=\"result-d010200e-7dfb-4316-870f-454b9d0f0f72\">\n",
              "      Upload widget is only available when the cell has been executed in the\n",
              "      current browser session. Please rerun this cell to enable.\n",
              "      </output>\n",
              "      <script src=\"/nbextensions/google.colab/files.js\"></script> "
            ],
            "text/plain": [
              "<IPython.core.display.HTML object>"
            ]
          },
          "metadata": {
            "tags": []
          }
        },
        {
          "output_type": "stream",
          "text": [
            "Saving hotel_bookings.csv to hotel_bookings.csv\n"
          ],
          "name": "stdout"
        }
      ]
    },
    {
      "cell_type": "code",
      "metadata": {
        "id": "_7dy7r5KTo3L",
        "colab_type": "code",
        "colab": {}
      },
      "source": [
        "hotel_data = pd.read_csv(io.BytesIO(uploaded['hotel_bookings.csv']))"
      ],
      "execution_count": 0,
      "outputs": []
    },
    {
      "cell_type": "code",
      "metadata": {
        "id": "YZrklub3a_OT",
        "colab_type": "code",
        "colab": {}
      },
      "source": [
        "df_test = pd.read_csv(io.BytesIO(uploaded['hotel_bookings.csv']))\n",
        "\n",
        "float_cols = [c for c in df_test if df_test[c].dtype == 'float32']\n",
        "float64_cols = {c: np.float64 for c in float_cols}\n",
        "\n",
        "hotel_data = pd.read_csv(io.BytesIO(uploaded['hotel_bookings.csv']), engine = 'c', dtype = float64_cols)"
      ],
      "execution_count": 0,
      "outputs": []
    },
    {
      "cell_type": "code",
      "metadata": {
        "id": "eZrMbhFuVdWE",
        "colab_type": "code",
        "colab": {}
      },
      "source": [
        "final_data = hotel_data.copy()"
      ],
      "execution_count": 0,
      "outputs": []
    },
    {
      "cell_type": "code",
      "metadata": {
        "id": "eqQ4Mt3zT4VH",
        "colab_type": "code",
        "colab": {}
      },
      "source": [
        "le = preprocessing.LabelEncoder()\n",
        "\n",
        "# Dropping the 'company' column\n",
        "final_data = final_data.drop(['company'], axis = 1)\n",
        "\n",
        "# Remove the null values in the country columns\n",
        "\n",
        "indices = final_data.loc[pd.isna(final_data['country']), :].index  \n",
        "final_data = final_data.drop(final_data.index[indices])  \n",
        "\n",
        "final_data['country'] = le.fit_transform(final_data['country']) \n",
        "\n",
        "final_data = pd.get_dummies(data = final_data, columns = ['hotel','meal', 'market_segment'\n",
        "                                                            , 'distribution_channel', 'reserved_room_type', 'deposit_type'\n",
        "                                                            , 'assigned_room_type', 'customer_type', 'reservation_status'])\n",
        "\n",
        "final_data = final_data.drop(columns = [ 'reservation_status_Canceled', 'reservation_status_Check-Out'\n",
        "                                          , 'reservation_status_No-Show', 'arrival_date_day_of_month'\n",
        "                                          , 'stays_in_weekend_nights', 'children', 'arrival_date_week_number'\n",
        "                                          , 'arrival_date_week_number', 'arrival_date_month', 'agent'\n",
        "                                          , 'reservation_status_date'], axis = 1)\n",
        "\n",
        "label = final_data['is_canceled']\n",
        "\n",
        "\n",
        "final_data = final_data.drop(['is_canceled'], axis =1)"
      ],
      "execution_count": 0,
      "outputs": []
    },
    {
      "cell_type": "code",
      "metadata": {
        "id": "1CaEzWvnT91U",
        "colab_type": "code",
        "colab": {}
      },
      "source": [
        "x_train, x_test, y_train, y_test = train_test_split(final_data, label, test_size = 0.20, random_state = 42)"
      ],
      "execution_count": 0,
      "outputs": []
    },
    {
      "cell_type": "markdown",
      "metadata": {
        "id": "31V_oA7sUSEe",
        "colab_type": "text"
      },
      "source": [
        "## Setting up the model parameters"
      ]
    },
    {
      "cell_type": "code",
      "metadata": {
        "id": "IOZ-r3VZUIO-",
        "colab_type": "code",
        "colab": {}
      },
      "source": [
        "num_classes = 2 # total number of outputs (in this case, cancelled or not cancelled, hence 2)\n",
        "num_features = 63 # data features (you can check for the input size by using the shape function, in this case, 63)\n",
        "\n",
        "# Training parameters.\n",
        "learning_rate = 0.00001\n",
        "training_steps = 63000\n",
        "batch_size = 128\n",
        "display_step = 315\n",
        "\n",
        "# Network parameters.\n",
        "n_hidden_1 = 250 # 1st layer number of neurons.\n",
        "n_hidden_2 = 250 # 2nd layer number of neurons.\n",
        "n_hidden_3 = 250 # 3rd layer number of neurons.\n",
        "n_hidden_4 = 250 # 4th layer number of neurons."
      ],
      "execution_count": 0,
      "outputs": []
    },
    {
      "cell_type": "code",
      "metadata": {
        "id": "dOK27rwHUILR",
        "colab_type": "code",
        "colab": {}
      },
      "source": [
        "# Using the tf.data API to shuffle and batch the data\n",
        "train_data = tf.data.Dataset.from_tensor_slices((x_train, y_train))\n",
        "train_data = train_data.repeat().shuffle(5000).batch(batch_size).prefetch(1)"
      ],
      "execution_count": 0,
      "outputs": []
    },
    {
      "cell_type": "code",
      "metadata": {
        "id": "z1cXWeYaUIJ_",
        "colab_type": "code",
        "colab": {}
      },
      "source": [
        "# Next up, we will be defining the layers of weights and bias for the hidden layers\n",
        "\n",
        "# For now, I will create a random value generator to initialize the weights\n",
        "random_normal = tf.initializers.RandomNormal()\n",
        "\n",
        "weights = {\n",
        "    'h1': tf.Variable(random_normal([num_features, n_hidden_1])),\n",
        "    'h2': tf.Variable(random_normal([n_hidden_1, n_hidden_2])),\n",
        "    'h3': tf.Variable(random_normal([n_hidden_2, n_hidden_3])),\n",
        "    'h4': tf.Variable(random_normal([n_hidden_3, n_hidden_4])),\n",
        "    'out': tf.Variable(random_normal([n_hidden_4, num_classes])),\n",
        "}\n",
        "biases = {\n",
        "    'b1': tf.Variable(random_normal([n_hidden_1])),\n",
        "    'b2': tf.Variable(random_normal([n_hidden_2])),\n",
        "    'b3': tf.Variable(random_normal([n_hidden_3])),\n",
        "    'b4': tf.Variable(random_normal([n_hidden_4])),\n",
        "    'out': tf.Variable(random_normal([num_classes])),\n",
        "}"
      ],
      "execution_count": 0,
      "outputs": []
    },
    {
      "cell_type": "code",
      "metadata": {
        "id": "l3PF_bdTUIIq",
        "colab_type": "code",
        "colab": {}
      },
      "source": [
        "# Next will be creating the model\n",
        "\n",
        "def neural_net(x):\n",
        "    \n",
        "    # This will be to convert the input into float32 input as some inputs are still in int format\n",
        "    # Without this line, the hidden layers will return an error requesting for a float input\n",
        "    x = tf.cast(x, dtype = tf.float32)\n",
        "\n",
        "    # 1st hidden fully connected layer with 250 neurons.\n",
        "    layer_1 = tf.add(tf.matmul(x, weights['h1']), biases['b1'])\n",
        "    # Apply relu to layer_1 output for non-linearity.\n",
        "    layer_1 = tf.nn.relu(layer_1)\n",
        "    \n",
        "    # 2nd hidden fully connected layer with 250 neurons.\n",
        "    layer_2 = tf.add(tf.matmul(layer_1, weights['h2']), biases['b2'])\n",
        "    # Apply relu to layer_2 output for non-linearity.\n",
        "    layer_2 = tf.nn.relu(layer_2)\n",
        "\n",
        "    # 3rd hidden fully connected layer with 250 neurons.\n",
        "    layer_3 = tf.add(tf.matmul(layer_2, weights['h3']), biases['b3'])\n",
        "    # Apply relu to layer_2 output for non-linearity.\n",
        "    layer_3 = tf.nn.relu(layer_3)\n",
        "\n",
        "    # 4th hidden fully connected layer with 250 neurons.\n",
        "    layer_4 = tf.add(tf.matmul(layer_3, weights['h4']), biases['b4'])\n",
        "    # Apply relu to layer_2 output for non-linearity.\n",
        "    layer_4 = tf.nn.relu(layer_4)\n",
        "    \n",
        "    # 5th hutput fully connected layer with a neuron for each class.\n",
        "    out_layer = tf.matmul(layer_4, weights['out']) + biases['out']\n",
        "    # Apply softmax to normalize the logits to a probability distribution.\n",
        "    return tf.nn.softmax(out_layer)"
      ],
      "execution_count": 0,
      "outputs": []
    },
    {
      "cell_type": "code",
      "metadata": {
        "id": "pbmQWm_5UIGK",
        "colab_type": "code",
        "colab": {}
      },
      "source": [
        "# Defining the cross-Entropy loss function\n",
        "\n",
        "def cross_entropy(y_pred, y_true):\n",
        "    # Encode label to a one hot vector.\n",
        "    y_true = tf.one_hot(y_true, depth = num_classes)\n",
        "    # Clip prediction values to avoid log(0) error.\n",
        "    y_pred = tf.clip_by_value(y_pred, 1e-9, 1.)\n",
        "    # Compute cross-entropy.\n",
        "    return tf.reduce_mean(-tf.reduce_sum(y_true * tf.math.log(y_pred)))\n",
        "\n",
        "# Defining the accuracy metric.\n",
        "def accuracy(y_pred, y_true):\n",
        "    # Predicted class is the index of highest score in prediction vector (i.e. argmax).\n",
        "    correct_prediction = tf.equal(tf.argmax(y_pred, 1), tf.cast(y_true, tf.int64))\n",
        "    return tf.reduce_mean(tf.cast(correct_prediction, tf.float32), axis = -1)\n",
        "\n",
        "# XXXXXX optimizer.\n",
        "optimizer = tf.optimizers.Adam(learning_rate)"
      ],
      "execution_count": 0,
      "outputs": []
    },
    {
      "cell_type": "code",
      "metadata": {
        "id": "3QN7KlrYUIDV",
        "colab_type": "code",
        "colab": {}
      },
      "source": [
        "# Lastly, we will define the optimization process. \n",
        "def run_optimization(x, y):\n",
        "    # The computation will be wrapped inside a GradientTape for automatic differentiation\n",
        "    with tf.GradientTape() as g:\n",
        "        pred = neural_net(x)\n",
        "        loss = cross_entropy(pred, y)\n",
        "        \n",
        "    # Combining the weights and values as a list so as to update the gradients\n",
        "    trainable_variables = list(weights.values()) + list(biases.values())\n",
        "\n",
        "    # The loss and combinedlist from above  will form the gradient\n",
        "    gradients = g.gradient(loss, trainable_variables)\n",
        "    \n",
        "    # Finally, apply the gradient to the optimizer\n",
        "    optimizer.apply_gradients(zip(gradients, trainable_variables))"
      ],
      "execution_count": 0,
      "outputs": []
    },
    {
      "cell_type": "code",
      "metadata": {
        "id": "8MRoJ87cUICM",
        "colab_type": "code",
        "outputId": "1ca19036-fa2e-4249-d927-07f5decef21c",
        "colab": {
          "base_uri": "https://localhost:8080/",
          "height": 1000
        }
      },
      "source": [
        "# Finally! We can run our algorithm\n",
        "# This is where we will create a for loop to run according to the batch size, training steps and other parameters we defined earlier \n",
        "\n",
        "for step, (batch_x, batch_y) in enumerate(train_data.take(training_steps), 1):\n",
        "    # After every defined batch size, the next step is to update the gradient accordingly\n",
        "    run_optimization(batch_x, batch_y)\n",
        "\n",
        "    # To print and update the user along the way\n",
        "    if step % display_step == 0:\n",
        "        pred = neural_net(batch_x)\n",
        "        loss = cross_entropy(pred, batch_y)\n",
        "        acc = accuracy(pred, batch_y)\n",
        "        print('step: %i, loss: %f, accuracy: %f' % (step, loss, acc))"
      ],
      "execution_count": 76,
      "outputs": [
        {
          "output_type": "stream",
          "text": [
            "step: 315, loss: 68.515259, accuracy: 0.726562\n",
            "step: 630, loss: 75.311493, accuracy: 0.687500\n",
            "step: 945, loss: 71.258560, accuracy: 0.726562\n",
            "step: 1260, loss: 77.212036, accuracy: 0.687500\n",
            "step: 1575, loss: 77.024399, accuracy: 0.703125\n",
            "step: 1890, loss: 65.100639, accuracy: 0.757812\n",
            "step: 2205, loss: 73.953903, accuracy: 0.710938\n",
            "step: 2520, loss: 65.477707, accuracy: 0.781250\n",
            "step: 2835, loss: 78.550522, accuracy: 0.656250\n",
            "step: 3150, loss: 64.385620, accuracy: 0.812500\n",
            "step: 3465, loss: 62.413155, accuracy: 0.773438\n",
            "step: 3780, loss: 65.786057, accuracy: 0.742188\n",
            "step: 4095, loss: 64.598839, accuracy: 0.734375\n",
            "step: 4410, loss: 66.624352, accuracy: 0.750000\n",
            "step: 4725, loss: 72.085754, accuracy: 0.695312\n",
            "step: 5040, loss: 70.418182, accuracy: 0.750000\n",
            "step: 5355, loss: 58.702438, accuracy: 0.804688\n",
            "step: 5670, loss: 71.550842, accuracy: 0.734375\n",
            "step: 5985, loss: 61.305546, accuracy: 0.757812\n",
            "step: 6300, loss: 62.890717, accuracy: 0.757812\n",
            "step: 6615, loss: 71.498375, accuracy: 0.695312\n",
            "step: 6930, loss: 69.000809, accuracy: 0.734375\n",
            "step: 7245, loss: 62.614811, accuracy: 0.765625\n",
            "step: 7560, loss: 59.372849, accuracy: 0.804688\n",
            "step: 7875, loss: 70.635376, accuracy: 0.734375\n",
            "step: 8190, loss: 52.447403, accuracy: 0.828125\n",
            "step: 8505, loss: 62.549644, accuracy: 0.757812\n",
            "step: 8820, loss: 61.415218, accuracy: 0.765625\n",
            "step: 9135, loss: 58.335220, accuracy: 0.781250\n",
            "step: 9450, loss: 68.430489, accuracy: 0.687500\n",
            "step: 9765, loss: 62.104473, accuracy: 0.781250\n",
            "step: 10080, loss: 70.766205, accuracy: 0.726562\n",
            "step: 10395, loss: 55.925995, accuracy: 0.796875\n",
            "step: 10710, loss: 55.328819, accuracy: 0.773438\n",
            "step: 11025, loss: 71.754761, accuracy: 0.687500\n",
            "step: 11340, loss: 57.942764, accuracy: 0.796875\n",
            "step: 11655, loss: 62.119148, accuracy: 0.765625\n",
            "step: 11970, loss: 57.930660, accuracy: 0.796875\n",
            "step: 12285, loss: 51.149017, accuracy: 0.828125\n",
            "step: 12600, loss: 62.854725, accuracy: 0.765625\n",
            "step: 12915, loss: 56.661858, accuracy: 0.757812\n",
            "step: 13230, loss: 52.715775, accuracy: 0.796875\n",
            "step: 13545, loss: 59.938507, accuracy: 0.742188\n",
            "step: 13860, loss: 63.594265, accuracy: 0.757812\n",
            "step: 14175, loss: 59.837505, accuracy: 0.750000\n",
            "step: 14490, loss: 62.748634, accuracy: 0.789062\n",
            "step: 14805, loss: 64.786865, accuracy: 0.773438\n",
            "step: 15120, loss: 46.699062, accuracy: 0.835938\n",
            "step: 15435, loss: 58.127647, accuracy: 0.812500\n",
            "step: 15750, loss: 49.656410, accuracy: 0.796875\n",
            "step: 16065, loss: 51.959648, accuracy: 0.812500\n",
            "step: 16380, loss: 52.546658, accuracy: 0.812500\n",
            "step: 16695, loss: 53.995129, accuracy: 0.828125\n",
            "step: 17010, loss: 53.034927, accuracy: 0.804688\n",
            "step: 17325, loss: 53.801685, accuracy: 0.789062\n",
            "step: 17640, loss: 58.318169, accuracy: 0.804688\n",
            "step: 17955, loss: 58.655949, accuracy: 0.757812\n",
            "step: 18270, loss: 52.453228, accuracy: 0.804688\n",
            "step: 18585, loss: 51.183273, accuracy: 0.796875\n",
            "step: 18900, loss: 54.996986, accuracy: 0.765625\n",
            "step: 19215, loss: 48.924747, accuracy: 0.851562\n",
            "step: 19530, loss: 48.048706, accuracy: 0.804688\n",
            "step: 19845, loss: 59.194641, accuracy: 0.812500\n",
            "step: 20160, loss: 53.214996, accuracy: 0.812500\n",
            "step: 20475, loss: 50.979382, accuracy: 0.781250\n",
            "step: 20790, loss: 52.632103, accuracy: 0.796875\n",
            "step: 21105, loss: 59.655182, accuracy: 0.765625\n",
            "step: 21420, loss: 54.855427, accuracy: 0.820312\n",
            "step: 21735, loss: 51.744247, accuracy: 0.812500\n",
            "step: 22050, loss: 48.922039, accuracy: 0.820312\n",
            "step: 22365, loss: 48.736485, accuracy: 0.796875\n",
            "step: 22680, loss: 56.871037, accuracy: 0.781250\n",
            "step: 22995, loss: 48.589676, accuracy: 0.820312\n",
            "step: 23310, loss: 44.106995, accuracy: 0.851562\n",
            "step: 23625, loss: 49.556213, accuracy: 0.828125\n",
            "step: 23940, loss: 48.526783, accuracy: 0.843750\n",
            "step: 24255, loss: 53.196514, accuracy: 0.828125\n",
            "step: 24570, loss: 55.277020, accuracy: 0.781250\n",
            "step: 24885, loss: 53.139572, accuracy: 0.796875\n",
            "step: 25200, loss: 53.870777, accuracy: 0.757812\n",
            "step: 25515, loss: 48.126884, accuracy: 0.773438\n",
            "step: 25830, loss: 43.313545, accuracy: 0.875000\n",
            "step: 26145, loss: 54.198246, accuracy: 0.804688\n",
            "step: 26460, loss: 51.314861, accuracy: 0.789062\n",
            "step: 26775, loss: 50.423759, accuracy: 0.851562\n",
            "step: 27090, loss: 53.833027, accuracy: 0.820312\n",
            "step: 27405, loss: 55.767609, accuracy: 0.773438\n",
            "step: 27720, loss: 48.368767, accuracy: 0.820312\n",
            "step: 28035, loss: 46.692951, accuracy: 0.828125\n",
            "step: 28350, loss: 65.758430, accuracy: 0.781250\n",
            "step: 28665, loss: 57.131042, accuracy: 0.773438\n",
            "step: 28980, loss: 46.293098, accuracy: 0.851562\n",
            "step: 29295, loss: 40.471226, accuracy: 0.882812\n",
            "step: 29610, loss: 56.801727, accuracy: 0.820312\n",
            "step: 29925, loss: 45.195305, accuracy: 0.828125\n",
            "step: 30240, loss: 51.976379, accuracy: 0.804688\n",
            "step: 30555, loss: 53.518845, accuracy: 0.820312\n",
            "step: 30870, loss: 55.718018, accuracy: 0.781250\n",
            "step: 31185, loss: 49.566040, accuracy: 0.820312\n",
            "step: 31500, loss: 41.685158, accuracy: 0.820312\n",
            "step: 31815, loss: 57.618874, accuracy: 0.765625\n",
            "step: 32130, loss: 44.918327, accuracy: 0.835938\n",
            "step: 32445, loss: 47.426205, accuracy: 0.804688\n",
            "step: 32760, loss: 50.388985, accuracy: 0.796875\n",
            "step: 33075, loss: 59.140087, accuracy: 0.765625\n",
            "step: 33390, loss: 42.425217, accuracy: 0.867188\n",
            "step: 33705, loss: 48.555218, accuracy: 0.781250\n",
            "step: 34020, loss: 54.148258, accuracy: 0.812500\n",
            "step: 34335, loss: 43.792225, accuracy: 0.828125\n",
            "step: 34650, loss: 40.037270, accuracy: 0.882812\n",
            "step: 34965, loss: 45.174660, accuracy: 0.835938\n",
            "step: 35280, loss: 62.721695, accuracy: 0.750000\n",
            "step: 35595, loss: 43.717278, accuracy: 0.867188\n",
            "step: 35910, loss: 46.339607, accuracy: 0.796875\n",
            "step: 36225, loss: 48.444149, accuracy: 0.843750\n",
            "step: 36540, loss: 49.418106, accuracy: 0.828125\n",
            "step: 36855, loss: 51.732082, accuracy: 0.804688\n",
            "step: 37170, loss: 44.467972, accuracy: 0.843750\n",
            "step: 37485, loss: 49.213844, accuracy: 0.828125\n",
            "step: 37800, loss: 48.023621, accuracy: 0.828125\n",
            "step: 38115, loss: 53.379150, accuracy: 0.757812\n",
            "step: 38430, loss: 50.013302, accuracy: 0.843750\n",
            "step: 38745, loss: 59.194973, accuracy: 0.789062\n",
            "step: 39060, loss: 65.440102, accuracy: 0.734375\n",
            "step: 39375, loss: 52.186092, accuracy: 0.804688\n",
            "step: 39690, loss: 44.133286, accuracy: 0.835938\n",
            "step: 40005, loss: 46.939114, accuracy: 0.859375\n",
            "step: 40320, loss: 56.896187, accuracy: 0.773438\n",
            "step: 40635, loss: 45.238655, accuracy: 0.804688\n",
            "step: 40950, loss: 44.654846, accuracy: 0.820312\n",
            "step: 41265, loss: 50.982193, accuracy: 0.796875\n",
            "step: 41580, loss: 52.819172, accuracy: 0.765625\n",
            "step: 41895, loss: 57.366982, accuracy: 0.796875\n",
            "step: 42210, loss: 53.484642, accuracy: 0.835938\n",
            "step: 42525, loss: 45.084076, accuracy: 0.843750\n",
            "step: 42840, loss: 49.733147, accuracy: 0.781250\n",
            "step: 43155, loss: 48.385803, accuracy: 0.804688\n",
            "step: 43470, loss: 49.620117, accuracy: 0.820312\n",
            "step: 43785, loss: 47.333694, accuracy: 0.851562\n",
            "step: 44100, loss: 50.762756, accuracy: 0.804688\n",
            "step: 44415, loss: 42.914597, accuracy: 0.812500\n",
            "step: 44730, loss: 36.406071, accuracy: 0.851562\n",
            "step: 45045, loss: 56.988419, accuracy: 0.804688\n",
            "step: 45360, loss: 47.955673, accuracy: 0.828125\n",
            "step: 45675, loss: 44.358242, accuracy: 0.875000\n",
            "step: 45990, loss: 40.356827, accuracy: 0.835938\n",
            "step: 46305, loss: 58.025505, accuracy: 0.789062\n",
            "step: 46620, loss: 55.311760, accuracy: 0.757812\n",
            "step: 46935, loss: 43.625515, accuracy: 0.882812\n",
            "step: 47250, loss: 56.356556, accuracy: 0.820312\n",
            "step: 47565, loss: 58.405708, accuracy: 0.789062\n",
            "step: 47880, loss: 46.521519, accuracy: 0.828125\n",
            "step: 48195, loss: 58.758560, accuracy: 0.781250\n",
            "step: 48510, loss: 45.081596, accuracy: 0.851562\n",
            "step: 48825, loss: 53.585831, accuracy: 0.781250\n",
            "step: 49140, loss: 50.324265, accuracy: 0.820312\n",
            "step: 49455, loss: 42.445591, accuracy: 0.859375\n",
            "step: 49770, loss: 49.039291, accuracy: 0.828125\n",
            "step: 50085, loss: 41.430313, accuracy: 0.820312\n",
            "step: 50400, loss: 48.984367, accuracy: 0.851562\n",
            "step: 50715, loss: 50.319672, accuracy: 0.820312\n",
            "step: 51030, loss: 47.533630, accuracy: 0.828125\n",
            "step: 51345, loss: 39.383354, accuracy: 0.851562\n",
            "step: 51660, loss: 32.713245, accuracy: 0.890625\n",
            "step: 51975, loss: 49.790138, accuracy: 0.796875\n",
            "step: 52290, loss: 45.907852, accuracy: 0.804688\n",
            "step: 52605, loss: 50.377064, accuracy: 0.781250\n",
            "step: 52920, loss: 49.030796, accuracy: 0.804688\n",
            "step: 53235, loss: 48.734482, accuracy: 0.835938\n",
            "step: 53550, loss: 43.223305, accuracy: 0.859375\n",
            "step: 53865, loss: 43.409546, accuracy: 0.851562\n",
            "step: 54180, loss: 44.725807, accuracy: 0.867188\n",
            "step: 54495, loss: 61.621639, accuracy: 0.726562\n",
            "step: 54810, loss: 39.018456, accuracy: 0.859375\n",
            "step: 55125, loss: 36.730797, accuracy: 0.851562\n",
            "step: 55440, loss: 51.200966, accuracy: 0.757812\n",
            "step: 55755, loss: 47.866444, accuracy: 0.828125\n",
            "step: 56070, loss: 55.815479, accuracy: 0.750000\n",
            "step: 56385, loss: 43.720139, accuracy: 0.835938\n",
            "step: 56700, loss: 42.986984, accuracy: 0.843750\n",
            "step: 57015, loss: 36.763863, accuracy: 0.875000\n",
            "step: 57330, loss: 49.200077, accuracy: 0.812500\n",
            "step: 57645, loss: 50.314972, accuracy: 0.796875\n",
            "step: 57960, loss: 56.156155, accuracy: 0.796875\n",
            "step: 58275, loss: 45.429157, accuracy: 0.843750\n",
            "step: 58590, loss: 47.189396, accuracy: 0.835938\n",
            "step: 58905, loss: 35.408241, accuracy: 0.867188\n",
            "step: 59220, loss: 52.129272, accuracy: 0.828125\n",
            "step: 59535, loss: 60.077057, accuracy: 0.765625\n",
            "step: 59850, loss: 57.087032, accuracy: 0.835938\n",
            "step: 60165, loss: 54.167248, accuracy: 0.765625\n",
            "step: 60480, loss: 49.257305, accuracy: 0.820312\n",
            "step: 60795, loss: 43.554058, accuracy: 0.828125\n",
            "step: 61110, loss: 54.619118, accuracy: 0.804688\n",
            "step: 61425, loss: 36.812778, accuracy: 0.851562\n",
            "step: 61740, loss: 46.191124, accuracy: 0.828125\n",
            "step: 62055, loss: 47.964928, accuracy: 0.851562\n",
            "step: 62370, loss: 48.926331, accuracy: 0.828125\n",
            "step: 62685, loss: 44.889935, accuracy: 0.796875\n",
            "step: 63000, loss: 49.002930, accuracy: 0.804688\n"
          ],
          "name": "stdout"
        }
      ]
    },
    {
      "cell_type": "code",
      "metadata": {
        "id": "YnAldLa6UH-j",
        "colab_type": "code",
        "outputId": "55b048e0-34e3-4f8f-9410-15be2242785a",
        "colab": {
          "base_uri": "https://localhost:8080/",
          "height": 34
        }
      },
      "source": [
        "# Test model on validation set.\n",
        "pred = neural_net(x_test)\n",
        "print('Test Accuracy: %f' % accuracy(pred, y_test))"
      ],
      "execution_count": 77,
      "outputs": [
        {
          "output_type": "stream",
          "text": [
            "Test Accuracy: 0.824986\n"
          ],
          "name": "stdout"
        }
      ]
    }
  ]
}
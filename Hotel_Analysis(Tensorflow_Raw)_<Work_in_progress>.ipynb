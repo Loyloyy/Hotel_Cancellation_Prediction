{
  "nbformat": 4,
  "nbformat_minor": 0,
  "metadata": {
    "colab": {
      "name": "Hotel_Analysis(Tensorflow Raw) <Work in progress>",
      "provenance": [],
      "collapsed_sections": [],
      "authorship_tag": "ABX9TyOnv4GMpwVkp2t0MMxMjJPv",
      "include_colab_link": true
    },
    "kernelspec": {
      "name": "python3",
      "display_name": "Python 3"
    }
  },
  "cells": [
    {
      "cell_type": "markdown",
      "metadata": {
        "id": "view-in-github",
        "colab_type": "text"
      },
      "source": [
        "<a href=\"https://colab.research.google.com/github/Loyloyy/Hotel_Cancellation_Prediction/blob/master/Hotel_Analysis(Tensorflow_Raw)_%3CWork_in_progress%3E.ipynb\" target=\"_parent\"><img src=\"https://colab.research.google.com/assets/colab-badge.svg\" alt=\"Open In Colab\"/></a>"
      ]
    },
    {
      "cell_type": "code",
      "metadata": {
        "id": "re2Hrl5KTeLu",
        "colab_type": "code",
        "colab": {}
      },
      "source": [
        "import io\n",
        "import tensorflow as tf\n",
        "%tensorflow_version 2.x\n",
        "import functools\n",
        "from sklearn.model_selection import train_test_split\n",
        "from sklearn import preprocessing\n",
        "from sklearn.model_selection import train_test_split, cross_val_score, GridSearchCV\n",
        "from sklearn.metrics import accuracy_score, roc_auc_score, roc_curve, confusion_matrix, auc\n",
        "\n",
        "import numpy as np\n",
        "import pandas as pd\n",
        "import matplotlib.pyplot as plt"
      ],
      "execution_count": 0,
      "outputs": []
    },
    {
      "cell_type": "code",
      "metadata": {
        "id": "muCIHizdTk9I",
        "colab_type": "code",
        "colab": {
          "resources": {
            "http://localhost:8080/nbextensions/google.colab/files.js": {
              "data": "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",
              "ok": true,
              "headers": [
                [
                  "content-type",
                  "application/javascript"
                ]
              ],
              "status": 200,
              "status_text": ""
            }
          },
          "base_uri": "https://localhost:8080/",
          "height": 74
        },
        "outputId": "9a8769ce-3690-4ed3-a974-6fff041a3f8e"
      },
      "source": [
        "from google.colab import files\n",
        "uploaded = files.upload()"
      ],
      "execution_count": 2,
      "outputs": [
        {
          "output_type": "display_data",
          "data": {
            "text/html": [
              "\n",
              "     <input type=\"file\" id=\"files-16e2db8f-04e2-4e84-8ddf-1de751714bae\" name=\"files[]\" multiple disabled />\n",
              "     <output id=\"result-16e2db8f-04e2-4e84-8ddf-1de751714bae\">\n",
              "      Upload widget is only available when the cell has been executed in the\n",
              "      current browser session. Please rerun this cell to enable.\n",
              "      </output>\n",
              "      <script src=\"/nbextensions/google.colab/files.js\"></script> "
            ],
            "text/plain": [
              "<IPython.core.display.HTML object>"
            ]
          },
          "metadata": {
            "tags": []
          }
        },
        {
          "output_type": "stream",
          "text": [
            "Saving hotel_bookings.csv to hotel_bookings.csv\n"
          ],
          "name": "stdout"
        }
      ]
    },
    {
      "cell_type": "code",
      "metadata": {
        "id": "_7dy7r5KTo3L",
        "colab_type": "code",
        "colab": {}
      },
      "source": [
        "hotel_data = pd.read_csv(io.BytesIO(uploaded['hotel_bookings.csv']))"
      ],
      "execution_count": 0,
      "outputs": []
    },
    {
      "cell_type": "code",
      "metadata": {
        "id": "YZrklub3a_OT",
        "colab_type": "code",
        "colab": {}
      },
      "source": [
        "df_test = pd.read_csv(io.BytesIO(uploaded['hotel_bookings.csv']))\n",
        "\n",
        "float_cols = [c for c in df_test if df_test[c].dtype == \"float32\"]\n",
        "float64_cols = {c: np.float64 for c in float_cols}\n",
        "\n",
        "hotel_data = pd.read_csv(io.BytesIO(uploaded['hotel_bookings.csv']), engine='c', dtype=float64_cols)"
      ],
      "execution_count": 0,
      "outputs": []
    },
    {
      "cell_type": "code",
      "metadata": {
        "id": "eZrMbhFuVdWE",
        "colab_type": "code",
        "colab": {}
      },
      "source": [
        "final_data = hotel_data.copy()"
      ],
      "execution_count": 0,
      "outputs": []
    },
    {
      "cell_type": "code",
      "metadata": {
        "id": "eqQ4Mt3zT4VH",
        "colab_type": "code",
        "colab": {}
      },
      "source": [
        "le = preprocessing.LabelEncoder()\n",
        "\n",
        "# Dropping the 'company' column\n",
        "final_data = final_data.drop(['company'], axis = 1)\n",
        "\n",
        "# Remove the null values in the country columns\n",
        "\n",
        "indices = final_data.loc[pd.isna(final_data['country']), :].index  \n",
        "final_data = final_data.drop(final_data.index[indices])  \n",
        "\n",
        "final_data['country'] = le.fit_transform(final_data['country']) \n",
        "\n",
        "final_data = pd.get_dummies(data = final_data, columns = ['hotel','meal', 'market_segment'\n",
        "                                                            , 'distribution_channel', 'reserved_room_type', 'deposit_type'\n",
        "                                                            , 'assigned_room_type', 'customer_type', 'reservation_status'])\n",
        "\n",
        "final_data = final_data.drop(columns = [ 'reservation_status_Canceled', 'reservation_status_Check-Out'\n",
        "                                          , 'reservation_status_No-Show', 'arrival_date_day_of_month'\n",
        "                                          , 'stays_in_weekend_nights', 'children', 'arrival_date_week_number'\n",
        "                                          , 'arrival_date_week_number', 'arrival_date_month', 'agent'\n",
        "                                          , 'reservation_status_date'], axis = 1)\n",
        "\n",
        "label = final_data['is_canceled']\n",
        "\n",
        "\n",
        "final_data = final_data.drop(['is_canceled'], axis =1)"
      ],
      "execution_count": 0,
      "outputs": []
    },
    {
      "cell_type": "code",
      "metadata": {
        "id": "1CaEzWvnT91U",
        "colab_type": "code",
        "colab": {}
      },
      "source": [
        "x_train, x_test, y_train, y_test = train_test_split(final_data, label, test_size = 0.20, random_state = 42)"
      ],
      "execution_count": 0,
      "outputs": []
    },
    {
      "cell_type": "markdown",
      "metadata": {
        "id": "31V_oA7sUSEe",
        "colab_type": "text"
      },
      "source": [
        "## Setting up the model parameters"
      ]
    },
    {
      "cell_type": "code",
      "metadata": {
        "id": "IOZ-r3VZUIO-",
        "colab_type": "code",
        "colab": {}
      },
      "source": [
        "num_classes = 2 # total number of outputs (in this case, cancelled or not called, hence 2)\n",
        "num_features = 63 # data features (you can check for the input size by using the shape function, in this case, 63)\n",
        "\n",
        "# Training parameters.\n",
        "learning_rate = 0.00001\n",
        "training_steps = 63000\n",
        "batch_size = 63\n",
        "display_step = 315\n",
        "\n",
        "# Network parameters.\n",
        "n_hidden_1 = 250 # 1st layer number of neurons.\n",
        "n_hidden_2 = 250 # 2nd layer number of neurons.\n",
        "n_hidden_3 = 250 # 3rd layer number of neurons.\n",
        "n_hidden_4 = 250 # 4th layer number of neurons."
      ],
      "execution_count": 0,
      "outputs": []
    },
    {
      "cell_type": "code",
      "metadata": {
        "id": "dOK27rwHUILR",
        "colab_type": "code",
        "colab": {}
      },
      "source": [
        "# Use tf.data API to shuffle and batch data.\n",
        "train_data = tf.data.Dataset.from_tensor_slices((x_train, y_train))\n",
        "train_data = train_data.repeat().shuffle(5000).batch(batch_size).prefetch(1)"
      ],
      "execution_count": 0,
      "outputs": []
    },
    {
      "cell_type": "code",
      "metadata": {
        "id": "z1cXWeYaUIJ_",
        "colab_type": "code",
        "colab": {}
      },
      "source": [
        "# Store layers weight & bias\n",
        "\n",
        "# A random value generator to initialize weights.\n",
        "random_normal = tf.initializers.RandomNormal()\n",
        "\n",
        "weights = {\n",
        "    'h1': tf.Variable(random_normal([num_features, n_hidden_1])),\n",
        "    'h2': tf.Variable(random_normal([n_hidden_1, n_hidden_2])),\n",
        "    'h3': tf.Variable(random_normal([n_hidden_2, n_hidden_3])),\n",
        "    'h4': tf.Variable(random_normal([n_hidden_3, n_hidden_4])),\n",
        "    'out': tf.Variable(random_normal([n_hidden_4, num_classes])),\n",
        "}\n",
        "biases = {\n",
        "    'b1': tf.Variable(random_normal([n_hidden_1])),\n",
        "    'b2': tf.Variable(random_normal([n_hidden_2])),\n",
        "    'b3': tf.Variable(random_normal([n_hidden_3])),\n",
        "    'b4': tf.Variable(random_normal([n_hidden_4])),\n",
        "    'out': tf.Variable(random_normal([num_classes])),\n",
        "}"
      ],
      "execution_count": 0,
      "outputs": []
    },
    {
      "cell_type": "code",
      "metadata": {
        "id": "l3PF_bdTUIIq",
        "colab_type": "code",
        "colab": {}
      },
      "source": [
        "# Create model.\n",
        "def neural_net(x):\n",
        "    \n",
        "    x = tf.cast(x, dtype=tf.float32)\n",
        "\n",
        "    # Hidden fully connected layer with 250 neurons.\n",
        "    layer_1 = tf.add(tf.matmul(x, weights['h1']), biases['b1'])\n",
        "    # Apply sigmoid to layer_1 output for non-linearity.\n",
        "    layer_1 = tf.nn.relu(layer_1)\n",
        "    \n",
        "    # Hidden fully connected layer with 250 neurons.\n",
        "    layer_2 = tf.add(tf.matmul(layer_1, weights['h2']), biases['b2'])\n",
        "    # Apply sigmoid to layer_2 output for non-linearity.\n",
        "    layer_2 = tf.nn.relu(layer_2)\n",
        "\n",
        "    # Hidden fully connected layer with 250 neurons.\n",
        "    layer_3 = tf.add(tf.matmul(layer_2, weights['h3']), biases['b3'])\n",
        "    # Apply sigmoid to layer_2 output for non-linearity.\n",
        "    layer_3 = tf.nn.relu(layer_3)\n",
        "\n",
        "    # Hidden fully connected layer with 250 neurons.\n",
        "    layer_4 = tf.add(tf.matmul(layer_3, weights['h4']), biases['b4'])\n",
        "    # Apply sigmoid to layer_2 output for non-linearity.\n",
        "    layer_4 = tf.nn.relu(layer_4)\n",
        "    \n",
        "    # Output fully connected layer with a neuron for each class.\n",
        "    out_layer = tf.matmul(layer_4, weights['out']) + biases['out']\n",
        "    # Apply softmax to normalize the logits to a probability distribution.\n",
        "    return tf.nn.softmax(out_layer)"
      ],
      "execution_count": 0,
      "outputs": []
    },
    {
      "cell_type": "code",
      "metadata": {
        "id": "pbmQWm_5UIGK",
        "colab_type": "code",
        "colab": {}
      },
      "source": [
        "# Cross-Entropy loss function.\n",
        "def cross_entropy(y_pred, y_true):\n",
        "    # Encode label to a one hot vector.\n",
        "    y_true = tf.one_hot(y_true, depth=num_classes)\n",
        "    # Clip prediction values to avoid log(0) error.\n",
        "    y_pred = tf.clip_by_value(y_pred, 1e-9, 1.)\n",
        "    # Compute cross-entropy.\n",
        "    return tf.reduce_mean(-tf.reduce_sum(y_true * tf.math.log(y_pred)))\n",
        "\n",
        "# Accuracy metric.\n",
        "def accuracy(y_pred, y_true):\n",
        "    # Predicted class is the index of highest score in prediction vector (i.e. argmax).\n",
        "    correct_prediction = tf.equal(tf.argmax(y_pred, 1), tf.cast(y_true, tf.int64))\n",
        "    return tf.reduce_mean(tf.cast(correct_prediction, tf.float32), axis=-1)\n",
        "\n",
        "# Stochastic gradient descent optimizer.\n",
        "optimizer = tf.optimizers.Adam(learning_rate)"
      ],
      "execution_count": 0,
      "outputs": []
    },
    {
      "cell_type": "code",
      "metadata": {
        "id": "3QN7KlrYUIDV",
        "colab_type": "code",
        "colab": {}
      },
      "source": [
        "# Optimization process. \n",
        "def run_optimization(x, y):\n",
        "    # Wrap computation inside a GradientTape for automatic differentiation.\n",
        "    with tf.GradientTape() as g:\n",
        "        pred = neural_net(x)\n",
        "        loss = cross_entropy(pred, y)\n",
        "        \n",
        "    # Variables to update, i.e. trainable variables.\n",
        "    trainable_variables = list(weights.values()) + list(biases.values())\n",
        "\n",
        "    # Compute gradients.\n",
        "    gradients = g.gradient(loss, trainable_variables)\n",
        "    \n",
        "    # Update W and b following gradients.\n",
        "    optimizer.apply_gradients(zip(gradients, trainable_variables))"
      ],
      "execution_count": 0,
      "outputs": []
    },
    {
      "cell_type": "code",
      "metadata": {
        "id": "8MRoJ87cUICM",
        "colab_type": "code",
        "colab": {
          "base_uri": "https://localhost:8080/",
          "height": 1000
        },
        "outputId": "b12431b1-8c0a-49de-feb0-b48ff823ec37"
      },
      "source": [
        "# Run training for the given number of steps.\n",
        "for step, (batch_x, batch_y) in enumerate(train_data.take(training_steps), 1):\n",
        "    # Run the optimization to update W and b values.\n",
        "    run_optimization(batch_x, batch_y)\n",
        "    \n",
        "    # print(\"step: %i, loss: %f, accuracy: %f\" % (step, loss, acc))\n",
        "    \n",
        "    if step % display_step == 0:\n",
        "        pred = neural_net(batch_x)\n",
        "        loss = cross_entropy(pred, batch_y)\n",
        "        acc = accuracy(pred, batch_y)\n",
        "        print(\"step: %i, loss: %f, accuracy: %f\" % (step, loss, acc))"
      ],
      "execution_count": 31,
      "outputs": [
        {
          "output_type": "stream",
          "text": [
            "step: 315, loss: 24.849840, accuracy: 0.841270\n",
            "step: 630, loss: 19.542891, accuracy: 0.841270\n",
            "step: 945, loss: 20.114689, accuracy: 0.841270\n",
            "step: 1260, loss: 22.740757, accuracy: 0.825397\n",
            "step: 1575, loss: 19.946774, accuracy: 0.825397\n",
            "step: 1890, loss: 20.673399, accuracy: 0.873016\n",
            "step: 2205, loss: 12.468659, accuracy: 0.904762\n",
            "step: 2520, loss: 28.575363, accuracy: 0.746032\n",
            "step: 2835, loss: 18.207811, accuracy: 0.857143\n",
            "step: 3150, loss: 17.961235, accuracy: 0.888889\n",
            "step: 3465, loss: 27.867760, accuracy: 0.746032\n",
            "step: 3780, loss: 21.116600, accuracy: 0.841270\n",
            "step: 4095, loss: 28.174376, accuracy: 0.730159\n",
            "step: 4410, loss: 24.211676, accuracy: 0.825397\n",
            "step: 4725, loss: 20.794285, accuracy: 0.825397\n",
            "step: 5040, loss: 22.719667, accuracy: 0.809524\n",
            "step: 5355, loss: 16.663065, accuracy: 0.857143\n",
            "step: 5670, loss: 26.199787, accuracy: 0.777778\n",
            "step: 5985, loss: 23.347359, accuracy: 0.825397\n",
            "step: 6300, loss: 20.400810, accuracy: 0.857143\n",
            "step: 6615, loss: 18.248543, accuracy: 0.904762\n",
            "step: 6930, loss: 32.709095, accuracy: 0.714286\n",
            "step: 7245, loss: 22.887739, accuracy: 0.841270\n",
            "step: 7560, loss: 18.541016, accuracy: 0.857143\n",
            "step: 7875, loss: 27.924257, accuracy: 0.809524\n",
            "step: 8190, loss: 27.082495, accuracy: 0.746032\n",
            "step: 8505, loss: 20.975300, accuracy: 0.809524\n",
            "step: 8820, loss: 15.131552, accuracy: 0.873016\n",
            "step: 9135, loss: 24.102251, accuracy: 0.825397\n",
            "step: 9450, loss: 22.195095, accuracy: 0.888889\n",
            "step: 9765, loss: 20.668766, accuracy: 0.857143\n",
            "step: 10080, loss: 23.910515, accuracy: 0.841270\n",
            "step: 10395, loss: 17.841715, accuracy: 0.873016\n",
            "step: 10710, loss: 13.631826, accuracy: 0.888889\n",
            "step: 11025, loss: 17.781944, accuracy: 0.857143\n",
            "step: 11340, loss: 19.533169, accuracy: 0.888889\n",
            "step: 11655, loss: 25.692825, accuracy: 0.730159\n",
            "step: 11970, loss: 24.101606, accuracy: 0.777778\n",
            "step: 12285, loss: 16.835794, accuracy: 0.920635\n",
            "step: 12600, loss: 22.772001, accuracy: 0.746032\n",
            "step: 12915, loss: 19.659264, accuracy: 0.825397\n",
            "step: 13230, loss: 19.892025, accuracy: 0.825397\n",
            "step: 13545, loss: 19.788792, accuracy: 0.873016\n",
            "step: 13860, loss: 24.519825, accuracy: 0.730159\n",
            "step: 14175, loss: 20.169661, accuracy: 0.873016\n",
            "step: 14490, loss: 22.137356, accuracy: 0.809524\n",
            "step: 14805, loss: 23.605074, accuracy: 0.841270\n",
            "step: 15120, loss: 30.868908, accuracy: 0.730159\n",
            "step: 15435, loss: 20.574883, accuracy: 0.857143\n",
            "step: 15750, loss: 21.278551, accuracy: 0.841270\n",
            "step: 16065, loss: 26.073008, accuracy: 0.746032\n",
            "step: 16380, loss: 20.484156, accuracy: 0.841270\n",
            "step: 16695, loss: 15.456391, accuracy: 0.888889\n",
            "step: 17010, loss: 23.179674, accuracy: 0.841270\n",
            "step: 17325, loss: 15.977273, accuracy: 0.873016\n",
            "step: 17640, loss: 25.129128, accuracy: 0.809524\n",
            "step: 17955, loss: 19.119001, accuracy: 0.841270\n",
            "step: 18270, loss: 27.289045, accuracy: 0.793651\n",
            "step: 18585, loss: 15.877245, accuracy: 0.857143\n",
            "step: 18900, loss: 22.043911, accuracy: 0.873016\n",
            "step: 19215, loss: 23.884089, accuracy: 0.841270\n",
            "step: 19530, loss: 23.290213, accuracy: 0.857143\n",
            "step: 19845, loss: 19.497404, accuracy: 0.825397\n",
            "step: 20160, loss: 22.839987, accuracy: 0.841270\n",
            "step: 20475, loss: 18.690811, accuracy: 0.888889\n",
            "step: 20790, loss: 22.658400, accuracy: 0.888889\n",
            "step: 21105, loss: 18.310272, accuracy: 0.888889\n",
            "step: 21420, loss: 15.169270, accuracy: 0.888889\n",
            "step: 21735, loss: 16.553474, accuracy: 0.920635\n",
            "step: 22050, loss: 21.681892, accuracy: 0.873016\n",
            "step: 22365, loss: 18.874643, accuracy: 0.904762\n",
            "step: 22680, loss: 30.630821, accuracy: 0.746032\n",
            "step: 22995, loss: 21.213409, accuracy: 0.841270\n",
            "step: 23310, loss: 29.208797, accuracy: 0.793651\n",
            "step: 23625, loss: 28.418449, accuracy: 0.777778\n",
            "step: 23940, loss: 20.173704, accuracy: 0.873016\n",
            "step: 24255, loss: 19.982149, accuracy: 0.841270\n",
            "step: 24570, loss: 21.566404, accuracy: 0.857143\n",
            "step: 24885, loss: 23.827181, accuracy: 0.777778\n",
            "step: 25200, loss: 26.721367, accuracy: 0.777778\n",
            "step: 25515, loss: 22.008448, accuracy: 0.841270\n",
            "step: 25830, loss: 22.816193, accuracy: 0.809524\n",
            "step: 26145, loss: 25.087082, accuracy: 0.793651\n",
            "step: 26460, loss: 20.683918, accuracy: 0.873016\n",
            "step: 26775, loss: 20.242563, accuracy: 0.857143\n",
            "step: 27090, loss: 21.629778, accuracy: 0.809524\n",
            "step: 27405, loss: 24.179604, accuracy: 0.825397\n",
            "step: 27720, loss: 23.295996, accuracy: 0.809524\n",
            "step: 28035, loss: 17.713867, accuracy: 0.904762\n",
            "step: 28350, loss: 22.252285, accuracy: 0.841270\n",
            "step: 28665, loss: 14.245816, accuracy: 0.920635\n",
            "step: 28980, loss: 21.264034, accuracy: 0.873016\n",
            "step: 29295, loss: 16.815655, accuracy: 0.873016\n",
            "step: 29610, loss: 22.087360, accuracy: 0.825397\n",
            "step: 29925, loss: 19.748388, accuracy: 0.857143\n",
            "step: 30240, loss: 27.064814, accuracy: 0.777778\n",
            "step: 30555, loss: 21.879013, accuracy: 0.809524\n",
            "step: 30870, loss: 24.751930, accuracy: 0.793651\n",
            "step: 31185, loss: 28.829220, accuracy: 0.714286\n",
            "step: 31500, loss: 15.354569, accuracy: 0.904762\n",
            "step: 31815, loss: 21.460392, accuracy: 0.793651\n",
            "step: 32130, loss: 22.664619, accuracy: 0.857143\n",
            "step: 32445, loss: 24.953968, accuracy: 0.841270\n",
            "step: 32760, loss: 17.863220, accuracy: 0.904762\n",
            "step: 33075, loss: 19.125254, accuracy: 0.841270\n",
            "step: 33390, loss: 29.226505, accuracy: 0.777778\n",
            "step: 33705, loss: 20.838326, accuracy: 0.841270\n",
            "step: 34020, loss: 15.954291, accuracy: 0.873016\n",
            "step: 34335, loss: 24.900465, accuracy: 0.793651\n",
            "step: 34650, loss: 19.756811, accuracy: 0.904762\n",
            "step: 34965, loss: 21.572716, accuracy: 0.809524\n",
            "step: 35280, loss: 22.257700, accuracy: 0.857143\n",
            "step: 35595, loss: 21.768476, accuracy: 0.857143\n",
            "step: 35910, loss: 25.999607, accuracy: 0.825397\n",
            "step: 36225, loss: 25.334011, accuracy: 0.793651\n",
            "step: 36540, loss: 21.260227, accuracy: 0.841270\n",
            "step: 36855, loss: 23.029644, accuracy: 0.761905\n",
            "step: 37170, loss: 22.574305, accuracy: 0.777778\n",
            "step: 37485, loss: 22.259518, accuracy: 0.841270\n",
            "step: 37800, loss: 22.245113, accuracy: 0.793651\n",
            "step: 38115, loss: 19.881189, accuracy: 0.841270\n",
            "step: 38430, loss: 21.916962, accuracy: 0.793651\n",
            "step: 38745, loss: 28.471067, accuracy: 0.809524\n",
            "step: 39060, loss: 19.625856, accuracy: 0.825397\n",
            "step: 39375, loss: 17.160021, accuracy: 0.873016\n",
            "step: 39690, loss: 23.868385, accuracy: 0.777778\n",
            "step: 40005, loss: 19.705482, accuracy: 0.873016\n",
            "step: 40320, loss: 18.091917, accuracy: 0.888889\n",
            "step: 40635, loss: 15.194505, accuracy: 0.904762\n",
            "step: 40950, loss: 21.968971, accuracy: 0.873016\n",
            "step: 41265, loss: 21.331200, accuracy: 0.904762\n",
            "step: 41580, loss: 20.271288, accuracy: 0.857143\n",
            "step: 41895, loss: 16.314798, accuracy: 0.873016\n",
            "step: 42210, loss: 22.295040, accuracy: 0.809524\n",
            "step: 42525, loss: 25.782843, accuracy: 0.793651\n",
            "step: 42840, loss: 23.421022, accuracy: 0.825397\n",
            "step: 43155, loss: 25.929232, accuracy: 0.793651\n",
            "step: 43470, loss: 20.286501, accuracy: 0.857143\n",
            "step: 43785, loss: 21.172207, accuracy: 0.825397\n",
            "step: 44100, loss: 22.134329, accuracy: 0.825397\n",
            "step: 44415, loss: 12.969182, accuracy: 0.936508\n",
            "step: 44730, loss: 22.901094, accuracy: 0.761905\n",
            "step: 45045, loss: 18.319664, accuracy: 0.857143\n",
            "step: 45360, loss: 23.698967, accuracy: 0.809524\n",
            "step: 45675, loss: 29.142931, accuracy: 0.793651\n",
            "step: 45990, loss: 22.295931, accuracy: 0.809524\n",
            "step: 46305, loss: 23.652994, accuracy: 0.809524\n",
            "step: 46620, loss: 15.857752, accuracy: 0.952381\n",
            "step: 46935, loss: 18.642464, accuracy: 0.857143\n",
            "step: 47250, loss: 24.851313, accuracy: 0.793651\n",
            "step: 47565, loss: 27.954025, accuracy: 0.809524\n",
            "step: 47880, loss: 19.466595, accuracy: 0.888889\n",
            "step: 48195, loss: 22.266758, accuracy: 0.809524\n",
            "step: 48510, loss: 18.949230, accuracy: 0.888889\n",
            "step: 48825, loss: 20.195721, accuracy: 0.841270\n",
            "step: 49140, loss: 19.094048, accuracy: 0.857143\n",
            "step: 49455, loss: 24.826778, accuracy: 0.873016\n",
            "step: 49770, loss: 22.280432, accuracy: 0.825397\n",
            "step: 50085, loss: 25.740381, accuracy: 0.777778\n",
            "step: 50400, loss: 24.779514, accuracy: 0.904762\n",
            "step: 50715, loss: 21.760712, accuracy: 0.841270\n",
            "step: 51030, loss: 28.431030, accuracy: 0.809524\n",
            "step: 51345, loss: 26.234005, accuracy: 0.809524\n",
            "step: 51660, loss: 23.348291, accuracy: 0.841270\n",
            "step: 51975, loss: 24.963848, accuracy: 0.841270\n",
            "step: 52290, loss: 27.365028, accuracy: 0.809524\n",
            "step: 52605, loss: 23.033855, accuracy: 0.809524\n",
            "step: 52920, loss: 25.644249, accuracy: 0.777778\n",
            "step: 53235, loss: 19.050030, accuracy: 0.857143\n",
            "step: 53550, loss: 26.655424, accuracy: 0.825397\n",
            "step: 53865, loss: 18.088678, accuracy: 0.825397\n",
            "step: 54180, loss: 28.978588, accuracy: 0.825397\n",
            "step: 54495, loss: 21.682138, accuracy: 0.841270\n",
            "step: 54810, loss: 16.548330, accuracy: 0.904762\n",
            "step: 55125, loss: 21.392326, accuracy: 0.777778\n",
            "step: 55440, loss: 17.628269, accuracy: 0.920635\n",
            "step: 55755, loss: 19.036215, accuracy: 0.873016\n",
            "step: 56070, loss: 24.088940, accuracy: 0.793651\n",
            "step: 56385, loss: 19.202961, accuracy: 0.841270\n",
            "step: 56700, loss: 22.373968, accuracy: 0.841270\n",
            "step: 57015, loss: 20.004879, accuracy: 0.873016\n",
            "step: 57330, loss: 20.782795, accuracy: 0.873016\n",
            "step: 57645, loss: 29.227209, accuracy: 0.714286\n",
            "step: 57960, loss: 24.621632, accuracy: 0.825397\n",
            "step: 58275, loss: 16.566263, accuracy: 0.904762\n",
            "step: 58590, loss: 20.064989, accuracy: 0.841270\n",
            "step: 58905, loss: 28.978378, accuracy: 0.777778\n",
            "step: 59220, loss: 16.439140, accuracy: 0.888889\n",
            "step: 59535, loss: 17.981768, accuracy: 0.904762\n",
            "step: 59850, loss: 23.730186, accuracy: 0.825397\n",
            "step: 60165, loss: 25.152760, accuracy: 0.777778\n",
            "step: 60480, loss: 14.902004, accuracy: 0.857143\n",
            "step: 60795, loss: 28.890755, accuracy: 0.825397\n",
            "step: 61110, loss: 16.987656, accuracy: 0.888889\n",
            "step: 61425, loss: 16.417505, accuracy: 0.841270\n",
            "step: 61740, loss: 25.920134, accuracy: 0.793651\n",
            "step: 62055, loss: 18.121065, accuracy: 0.841270\n",
            "step: 62370, loss: 18.335012, accuracy: 0.904762\n",
            "step: 62685, loss: 18.799623, accuracy: 0.873016\n",
            "step: 63000, loss: 20.109175, accuracy: 0.857143\n"
          ],
          "name": "stdout"
        }
      ]
    },
    {
      "cell_type": "code",
      "metadata": {
        "id": "YnAldLa6UH-j",
        "colab_type": "code",
        "colab": {
          "base_uri": "https://localhost:8080/",
          "height": 34
        },
        "outputId": "3a917901-a446-4150-c75a-6397e67a7aaf"
      },
      "source": [
        "# Test model on validation set.\n",
        "pred = neural_net(x_test)\n",
        "print(\"Test Accuracy: %f\" % accuracy(pred, y_test))"
      ],
      "execution_count": 32,
      "outputs": [
        {
          "output_type": "stream",
          "text": [
            "Test Accuracy: 0.833228\n"
          ],
          "name": "stdout"
        }
      ]
    },
    {
      "cell_type": "code",
      "metadata": {
        "id": "ufq1PN5pUH8b",
        "colab_type": "code",
        "colab": {}
      },
      "source": [
        "# Visualize predictions.\n",
        "import matplotlib.pyplot as plt"
      ],
      "execution_count": 0,
      "outputs": []
    }
  ]
}